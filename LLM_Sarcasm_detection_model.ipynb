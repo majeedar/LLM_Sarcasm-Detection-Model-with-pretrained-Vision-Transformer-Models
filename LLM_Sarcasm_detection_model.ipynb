{
  "nbformat": 4,
  "nbformat_minor": 0,
  "metadata": {
    "colab": {
      "provenance": [],
      "gpuType": "T4"
    },
    "kernelspec": {
      "name": "python3",
      "display_name": "Python 3"
    },
    "language_info": {
      "name": "python"
    },
    "accelerator": "GPU",
    "widgets": {
      "application/vnd.jupyter.widget-state+json": {
        "1a5559f4406b44e4a0f80778f1a03fef": {
          "model_module": "@jupyter-widgets/controls",
          "model_name": "HBoxModel",
          "model_module_version": "1.5.0",
          "state": {
            "_dom_classes": [],
            "_model_module": "@jupyter-widgets/controls",
            "_model_module_version": "1.5.0",
            "_model_name": "HBoxModel",
            "_view_count": null,
            "_view_module": "@jupyter-widgets/controls",
            "_view_module_version": "1.5.0",
            "_view_name": "HBoxView",
            "box_style": "",
            "children": [
              "IPY_MODEL_6eec87f60f3941b2a0819d35dab4db3f",
              "IPY_MODEL_1dad621519a946748d3098fb351d6bb9",
              "IPY_MODEL_ddf730a8a3da4145a4ad6a881a219945"
            ],
            "layout": "IPY_MODEL_740e09099daf4744bd036310b0163f4f"
          }
        },
        "6eec87f60f3941b2a0819d35dab4db3f": {
          "model_module": "@jupyter-widgets/controls",
          "model_name": "HTMLModel",
          "model_module_version": "1.5.0",
          "state": {
            "_dom_classes": [],
            "_model_module": "@jupyter-widgets/controls",
            "_model_module_version": "1.5.0",
            "_model_name": "HTMLModel",
            "_view_count": null,
            "_view_module": "@jupyter-widgets/controls",
            "_view_module_version": "1.5.0",
            "_view_name": "HTMLView",
            "description": "",
            "description_tooltip": null,
            "layout": "IPY_MODEL_31d1e9a76d8e46a89b0842a0af85ebc3",
            "placeholder": "​",
            "style": "IPY_MODEL_6a2804086f164d33a94555b4d5bdb497",
            "value": "tokenizer_config.json: 100%"
          }
        },
        "1dad621519a946748d3098fb351d6bb9": {
          "model_module": "@jupyter-widgets/controls",
          "model_name": "FloatProgressModel",
          "model_module_version": "1.5.0",
          "state": {
            "_dom_classes": [],
            "_model_module": "@jupyter-widgets/controls",
            "_model_module_version": "1.5.0",
            "_model_name": "FloatProgressModel",
            "_view_count": null,
            "_view_module": "@jupyter-widgets/controls",
            "_view_module_version": "1.5.0",
            "_view_name": "ProgressView",
            "bar_style": "success",
            "description": "",
            "description_tooltip": null,
            "layout": "IPY_MODEL_2a26c9fbe6294ed9b46fbb7edfbdfd55",
            "max": 348,
            "min": 0,
            "orientation": "horizontal",
            "style": "IPY_MODEL_15de67df803f40639470c0bd051a8e19",
            "value": 348
          }
        },
        "ddf730a8a3da4145a4ad6a881a219945": {
          "model_module": "@jupyter-widgets/controls",
          "model_name": "HTMLModel",
          "model_module_version": "1.5.0",
          "state": {
            "_dom_classes": [],
            "_model_module": "@jupyter-widgets/controls",
            "_model_module_version": "1.5.0",
            "_model_name": "HTMLModel",
            "_view_count": null,
            "_view_module": "@jupyter-widgets/controls",
            "_view_module_version": "1.5.0",
            "_view_name": "HTMLView",
            "description": "",
            "description_tooltip": null,
            "layout": "IPY_MODEL_43fa376441814ec99e58cc53ac709dea",
            "placeholder": "​",
            "style": "IPY_MODEL_471888811fef4b3fafa4ad6adf254b89",
            "value": " 348/348 [00:00&lt;00:00, 21.9kB/s]"
          }
        },
        "740e09099daf4744bd036310b0163f4f": {
          "model_module": "@jupyter-widgets/base",
          "model_name": "LayoutModel",
          "model_module_version": "1.2.0",
          "state": {
            "_model_module": "@jupyter-widgets/base",
            "_model_module_version": "1.2.0",
            "_model_name": "LayoutModel",
            "_view_count": null,
            "_view_module": "@jupyter-widgets/base",
            "_view_module_version": "1.2.0",
            "_view_name": "LayoutView",
            "align_content": null,
            "align_items": null,
            "align_self": null,
            "border": null,
            "bottom": null,
            "display": null,
            "flex": null,
            "flex_flow": null,
            "grid_area": null,
            "grid_auto_columns": null,
            "grid_auto_flow": null,
            "grid_auto_rows": null,
            "grid_column": null,
            "grid_gap": null,
            "grid_row": null,
            "grid_template_areas": null,
            "grid_template_columns": null,
            "grid_template_rows": null,
            "height": null,
            "justify_content": null,
            "justify_items": null,
            "left": null,
            "margin": null,
            "max_height": null,
            "max_width": null,
            "min_height": null,
            "min_width": null,
            "object_fit": null,
            "object_position": null,
            "order": null,
            "overflow": null,
            "overflow_x": null,
            "overflow_y": null,
            "padding": null,
            "right": null,
            "top": null,
            "visibility": null,
            "width": null
          }
        },
        "31d1e9a76d8e46a89b0842a0af85ebc3": {
          "model_module": "@jupyter-widgets/base",
          "model_name": "LayoutModel",
          "model_module_version": "1.2.0",
          "state": {
            "_model_module": "@jupyter-widgets/base",
            "_model_module_version": "1.2.0",
            "_model_name": "LayoutModel",
            "_view_count": null,
            "_view_module": "@jupyter-widgets/base",
            "_view_module_version": "1.2.0",
            "_view_name": "LayoutView",
            "align_content": null,
            "align_items": null,
            "align_self": null,
            "border": null,
            "bottom": null,
            "display": null,
            "flex": null,
            "flex_flow": null,
            "grid_area": null,
            "grid_auto_columns": null,
            "grid_auto_flow": null,
            "grid_auto_rows": null,
            "grid_column": null,
            "grid_gap": null,
            "grid_row": null,
            "grid_template_areas": null,
            "grid_template_columns": null,
            "grid_template_rows": null,
            "height": null,
            "justify_content": null,
            "justify_items": null,
            "left": null,
            "margin": null,
            "max_height": null,
            "max_width": null,
            "min_height": null,
            "min_width": null,
            "object_fit": null,
            "object_position": null,
            "order": null,
            "overflow": null,
            "overflow_x": null,
            "overflow_y": null,
            "padding": null,
            "right": null,
            "top": null,
            "visibility": null,
            "width": null
          }
        },
        "6a2804086f164d33a94555b4d5bdb497": {
          "model_module": "@jupyter-widgets/controls",
          "model_name": "DescriptionStyleModel",
          "model_module_version": "1.5.0",
          "state": {
            "_model_module": "@jupyter-widgets/controls",
            "_model_module_version": "1.5.0",
            "_model_name": "DescriptionStyleModel",
            "_view_count": null,
            "_view_module": "@jupyter-widgets/base",
            "_view_module_version": "1.2.0",
            "_view_name": "StyleView",
            "description_width": ""
          }
        },
        "2a26c9fbe6294ed9b46fbb7edfbdfd55": {
          "model_module": "@jupyter-widgets/base",
          "model_name": "LayoutModel",
          "model_module_version": "1.2.0",
          "state": {
            "_model_module": "@jupyter-widgets/base",
            "_model_module_version": "1.2.0",
            "_model_name": "LayoutModel",
            "_view_count": null,
            "_view_module": "@jupyter-widgets/base",
            "_view_module_version": "1.2.0",
            "_view_name": "LayoutView",
            "align_content": null,
            "align_items": null,
            "align_self": null,
            "border": null,
            "bottom": null,
            "display": null,
            "flex": null,
            "flex_flow": null,
            "grid_area": null,
            "grid_auto_columns": null,
            "grid_auto_flow": null,
            "grid_auto_rows": null,
            "grid_column": null,
            "grid_gap": null,
            "grid_row": null,
            "grid_template_areas": null,
            "grid_template_columns": null,
            "grid_template_rows": null,
            "height": null,
            "justify_content": null,
            "justify_items": null,
            "left": null,
            "margin": null,
            "max_height": null,
            "max_width": null,
            "min_height": null,
            "min_width": null,
            "object_fit": null,
            "object_position": null,
            "order": null,
            "overflow": null,
            "overflow_x": null,
            "overflow_y": null,
            "padding": null,
            "right": null,
            "top": null,
            "visibility": null,
            "width": null
          }
        },
        "15de67df803f40639470c0bd051a8e19": {
          "model_module": "@jupyter-widgets/controls",
          "model_name": "ProgressStyleModel",
          "model_module_version": "1.5.0",
          "state": {
            "_model_module": "@jupyter-widgets/controls",
            "_model_module_version": "1.5.0",
            "_model_name": "ProgressStyleModel",
            "_view_count": null,
            "_view_module": "@jupyter-widgets/base",
            "_view_module_version": "1.2.0",
            "_view_name": "StyleView",
            "bar_color": null,
            "description_width": ""
          }
        },
        "43fa376441814ec99e58cc53ac709dea": {
          "model_module": "@jupyter-widgets/base",
          "model_name": "LayoutModel",
          "model_module_version": "1.2.0",
          "state": {
            "_model_module": "@jupyter-widgets/base",
            "_model_module_version": "1.2.0",
            "_model_name": "LayoutModel",
            "_view_count": null,
            "_view_module": "@jupyter-widgets/base",
            "_view_module_version": "1.2.0",
            "_view_name": "LayoutView",
            "align_content": null,
            "align_items": null,
            "align_self": null,
            "border": null,
            "bottom": null,
            "display": null,
            "flex": null,
            "flex_flow": null,
            "grid_area": null,
            "grid_auto_columns": null,
            "grid_auto_flow": null,
            "grid_auto_rows": null,
            "grid_column": null,
            "grid_gap": null,
            "grid_row": null,
            "grid_template_areas": null,
            "grid_template_columns": null,
            "grid_template_rows": null,
            "height": null,
            "justify_content": null,
            "justify_items": null,
            "left": null,
            "margin": null,
            "max_height": null,
            "max_width": null,
            "min_height": null,
            "min_width": null,
            "object_fit": null,
            "object_position": null,
            "order": null,
            "overflow": null,
            "overflow_x": null,
            "overflow_y": null,
            "padding": null,
            "right": null,
            "top": null,
            "visibility": null,
            "width": null
          }
        },
        "471888811fef4b3fafa4ad6adf254b89": {
          "model_module": "@jupyter-widgets/controls",
          "model_name": "DescriptionStyleModel",
          "model_module_version": "1.5.0",
          "state": {
            "_model_module": "@jupyter-widgets/controls",
            "_model_module_version": "1.5.0",
            "_model_name": "DescriptionStyleModel",
            "_view_count": null,
            "_view_module": "@jupyter-widgets/base",
            "_view_module_version": "1.2.0",
            "_view_name": "StyleView",
            "description_width": ""
          }
        },
        "63e08f752e294f129cef2f9f62217132": {
          "model_module": "@jupyter-widgets/controls",
          "model_name": "HBoxModel",
          "model_module_version": "1.5.0",
          "state": {
            "_dom_classes": [],
            "_model_module": "@jupyter-widgets/controls",
            "_model_module_version": "1.5.0",
            "_model_name": "HBoxModel",
            "_view_count": null,
            "_view_module": "@jupyter-widgets/controls",
            "_view_module_version": "1.5.0",
            "_view_name": "HBoxView",
            "box_style": "",
            "children": [
              "IPY_MODEL_4d9ed1d105984313acdd622426997d52",
              "IPY_MODEL_9f91d68790504d7ea44a394f6bd70e4d",
              "IPY_MODEL_54f7a236da3e424a8d961b58948a89ec"
            ],
            "layout": "IPY_MODEL_fecf6dc8c86e46c1819aed2bcef13778"
          }
        },
        "4d9ed1d105984313acdd622426997d52": {
          "model_module": "@jupyter-widgets/controls",
          "model_name": "HTMLModel",
          "model_module_version": "1.5.0",
          "state": {
            "_dom_classes": [],
            "_model_module": "@jupyter-widgets/controls",
            "_model_module_version": "1.5.0",
            "_model_name": "HTMLModel",
            "_view_count": null,
            "_view_module": "@jupyter-widgets/controls",
            "_view_module_version": "1.5.0",
            "_view_name": "HTMLView",
            "description": "",
            "description_tooltip": null,
            "layout": "IPY_MODEL_958f1663a5d74262bd4068fbda2fed1f",
            "placeholder": "​",
            "style": "IPY_MODEL_b0191d6097974e7bb9ba9ad00076a698",
            "value": "vocab.txt: 100%"
          }
        },
        "9f91d68790504d7ea44a394f6bd70e4d": {
          "model_module": "@jupyter-widgets/controls",
          "model_name": "FloatProgressModel",
          "model_module_version": "1.5.0",
          "state": {
            "_dom_classes": [],
            "_model_module": "@jupyter-widgets/controls",
            "_model_module_version": "1.5.0",
            "_model_name": "FloatProgressModel",
            "_view_count": null,
            "_view_module": "@jupyter-widgets/controls",
            "_view_module_version": "1.5.0",
            "_view_name": "ProgressView",
            "bar_style": "success",
            "description": "",
            "description_tooltip": null,
            "layout": "IPY_MODEL_b0c2a76fce454c4d835b67cf9022a1a3",
            "max": 231508,
            "min": 0,
            "orientation": "horizontal",
            "style": "IPY_MODEL_9c325d069f6243ad8e7d5243768dd07f",
            "value": 231508
          }
        },
        "54f7a236da3e424a8d961b58948a89ec": {
          "model_module": "@jupyter-widgets/controls",
          "model_name": "HTMLModel",
          "model_module_version": "1.5.0",
          "state": {
            "_dom_classes": [],
            "_model_module": "@jupyter-widgets/controls",
            "_model_module_version": "1.5.0",
            "_model_name": "HTMLModel",
            "_view_count": null,
            "_view_module": "@jupyter-widgets/controls",
            "_view_module_version": "1.5.0",
            "_view_name": "HTMLView",
            "description": "",
            "description_tooltip": null,
            "layout": "IPY_MODEL_10d7ffbe9adc4fd28f26ae2ae7a93153",
            "placeholder": "​",
            "style": "IPY_MODEL_1e1cc611ef984e328c7a767e9d156c0d",
            "value": " 232k/232k [00:00&lt;00:00, 1.06MB/s]"
          }
        },
        "fecf6dc8c86e46c1819aed2bcef13778": {
          "model_module": "@jupyter-widgets/base",
          "model_name": "LayoutModel",
          "model_module_version": "1.2.0",
          "state": {
            "_model_module": "@jupyter-widgets/base",
            "_model_module_version": "1.2.0",
            "_model_name": "LayoutModel",
            "_view_count": null,
            "_view_module": "@jupyter-widgets/base",
            "_view_module_version": "1.2.0",
            "_view_name": "LayoutView",
            "align_content": null,
            "align_items": null,
            "align_self": null,
            "border": null,
            "bottom": null,
            "display": null,
            "flex": null,
            "flex_flow": null,
            "grid_area": null,
            "grid_auto_columns": null,
            "grid_auto_flow": null,
            "grid_auto_rows": null,
            "grid_column": null,
            "grid_gap": null,
            "grid_row": null,
            "grid_template_areas": null,
            "grid_template_columns": null,
            "grid_template_rows": null,
            "height": null,
            "justify_content": null,
            "justify_items": null,
            "left": null,
            "margin": null,
            "max_height": null,
            "max_width": null,
            "min_height": null,
            "min_width": null,
            "object_fit": null,
            "object_position": null,
            "order": null,
            "overflow": null,
            "overflow_x": null,
            "overflow_y": null,
            "padding": null,
            "right": null,
            "top": null,
            "visibility": null,
            "width": null
          }
        },
        "958f1663a5d74262bd4068fbda2fed1f": {
          "model_module": "@jupyter-widgets/base",
          "model_name": "LayoutModel",
          "model_module_version": "1.2.0",
          "state": {
            "_model_module": "@jupyter-widgets/base",
            "_model_module_version": "1.2.0",
            "_model_name": "LayoutModel",
            "_view_count": null,
            "_view_module": "@jupyter-widgets/base",
            "_view_module_version": "1.2.0",
            "_view_name": "LayoutView",
            "align_content": null,
            "align_items": null,
            "align_self": null,
            "border": null,
            "bottom": null,
            "display": null,
            "flex": null,
            "flex_flow": null,
            "grid_area": null,
            "grid_auto_columns": null,
            "grid_auto_flow": null,
            "grid_auto_rows": null,
            "grid_column": null,
            "grid_gap": null,
            "grid_row": null,
            "grid_template_areas": null,
            "grid_template_columns": null,
            "grid_template_rows": null,
            "height": null,
            "justify_content": null,
            "justify_items": null,
            "left": null,
            "margin": null,
            "max_height": null,
            "max_width": null,
            "min_height": null,
            "min_width": null,
            "object_fit": null,
            "object_position": null,
            "order": null,
            "overflow": null,
            "overflow_x": null,
            "overflow_y": null,
            "padding": null,
            "right": null,
            "top": null,
            "visibility": null,
            "width": null
          }
        },
        "b0191d6097974e7bb9ba9ad00076a698": {
          "model_module": "@jupyter-widgets/controls",
          "model_name": "DescriptionStyleModel",
          "model_module_version": "1.5.0",
          "state": {
            "_model_module": "@jupyter-widgets/controls",
            "_model_module_version": "1.5.0",
            "_model_name": "DescriptionStyleModel",
            "_view_count": null,
            "_view_module": "@jupyter-widgets/base",
            "_view_module_version": "1.2.0",
            "_view_name": "StyleView",
            "description_width": ""
          }
        },
        "b0c2a76fce454c4d835b67cf9022a1a3": {
          "model_module": "@jupyter-widgets/base",
          "model_name": "LayoutModel",
          "model_module_version": "1.2.0",
          "state": {
            "_model_module": "@jupyter-widgets/base",
            "_model_module_version": "1.2.0",
            "_model_name": "LayoutModel",
            "_view_count": null,
            "_view_module": "@jupyter-widgets/base",
            "_view_module_version": "1.2.0",
            "_view_name": "LayoutView",
            "align_content": null,
            "align_items": null,
            "align_self": null,
            "border": null,
            "bottom": null,
            "display": null,
            "flex": null,
            "flex_flow": null,
            "grid_area": null,
            "grid_auto_columns": null,
            "grid_auto_flow": null,
            "grid_auto_rows": null,
            "grid_column": null,
            "grid_gap": null,
            "grid_row": null,
            "grid_template_areas": null,
            "grid_template_columns": null,
            "grid_template_rows": null,
            "height": null,
            "justify_content": null,
            "justify_items": null,
            "left": null,
            "margin": null,
            "max_height": null,
            "max_width": null,
            "min_height": null,
            "min_width": null,
            "object_fit": null,
            "object_position": null,
            "order": null,
            "overflow": null,
            "overflow_x": null,
            "overflow_y": null,
            "padding": null,
            "right": null,
            "top": null,
            "visibility": null,
            "width": null
          }
        },
        "9c325d069f6243ad8e7d5243768dd07f": {
          "model_module": "@jupyter-widgets/controls",
          "model_name": "ProgressStyleModel",
          "model_module_version": "1.5.0",
          "state": {
            "_model_module": "@jupyter-widgets/controls",
            "_model_module_version": "1.5.0",
            "_model_name": "ProgressStyleModel",
            "_view_count": null,
            "_view_module": "@jupyter-widgets/base",
            "_view_module_version": "1.2.0",
            "_view_name": "StyleView",
            "bar_color": null,
            "description_width": ""
          }
        },
        "10d7ffbe9adc4fd28f26ae2ae7a93153": {
          "model_module": "@jupyter-widgets/base",
          "model_name": "LayoutModel",
          "model_module_version": "1.2.0",
          "state": {
            "_model_module": "@jupyter-widgets/base",
            "_model_module_version": "1.2.0",
            "_model_name": "LayoutModel",
            "_view_count": null,
            "_view_module": "@jupyter-widgets/base",
            "_view_module_version": "1.2.0",
            "_view_name": "LayoutView",
            "align_content": null,
            "align_items": null,
            "align_self": null,
            "border": null,
            "bottom": null,
            "display": null,
            "flex": null,
            "flex_flow": null,
            "grid_area": null,
            "grid_auto_columns": null,
            "grid_auto_flow": null,
            "grid_auto_rows": null,
            "grid_column": null,
            "grid_gap": null,
            "grid_row": null,
            "grid_template_areas": null,
            "grid_template_columns": null,
            "grid_template_rows": null,
            "height": null,
            "justify_content": null,
            "justify_items": null,
            "left": null,
            "margin": null,
            "max_height": null,
            "max_width": null,
            "min_height": null,
            "min_width": null,
            "object_fit": null,
            "object_position": null,
            "order": null,
            "overflow": null,
            "overflow_x": null,
            "overflow_y": null,
            "padding": null,
            "right": null,
            "top": null,
            "visibility": null,
            "width": null
          }
        },
        "1e1cc611ef984e328c7a767e9d156c0d": {
          "model_module": "@jupyter-widgets/controls",
          "model_name": "DescriptionStyleModel",
          "model_module_version": "1.5.0",
          "state": {
            "_model_module": "@jupyter-widgets/controls",
            "_model_module_version": "1.5.0",
            "_model_name": "DescriptionStyleModel",
            "_view_count": null,
            "_view_module": "@jupyter-widgets/base",
            "_view_module_version": "1.2.0",
            "_view_name": "StyleView",
            "description_width": ""
          }
        },
        "c8e01fa2ad7744dc80544e63675da274": {
          "model_module": "@jupyter-widgets/controls",
          "model_name": "HBoxModel",
          "model_module_version": "1.5.0",
          "state": {
            "_dom_classes": [],
            "_model_module": "@jupyter-widgets/controls",
            "_model_module_version": "1.5.0",
            "_model_name": "HBoxModel",
            "_view_count": null,
            "_view_module": "@jupyter-widgets/controls",
            "_view_module_version": "1.5.0",
            "_view_name": "HBoxView",
            "box_style": "",
            "children": [
              "IPY_MODEL_2b07c9c7cd4847f8ae66e6e04f4b7e88",
              "IPY_MODEL_9889fe24ff144da3ab0049b4634affad",
              "IPY_MODEL_c5a128a51f634b94a070e4ac4f2cefb0"
            ],
            "layout": "IPY_MODEL_0c3c1834fa1c47af9246a4c87a1616cc"
          }
        },
        "2b07c9c7cd4847f8ae66e6e04f4b7e88": {
          "model_module": "@jupyter-widgets/controls",
          "model_name": "HTMLModel",
          "model_module_version": "1.5.0",
          "state": {
            "_dom_classes": [],
            "_model_module": "@jupyter-widgets/controls",
            "_model_module_version": "1.5.0",
            "_model_name": "HTMLModel",
            "_view_count": null,
            "_view_module": "@jupyter-widgets/controls",
            "_view_module_version": "1.5.0",
            "_view_name": "HTMLView",
            "description": "",
            "description_tooltip": null,
            "layout": "IPY_MODEL_b3eb61ad89824697b859b6885fc6fba5",
            "placeholder": "​",
            "style": "IPY_MODEL_7e02f32b91a54fba89732f702d1957ad",
            "value": "tokenizer.json: 100%"
          }
        },
        "9889fe24ff144da3ab0049b4634affad": {
          "model_module": "@jupyter-widgets/controls",
          "model_name": "FloatProgressModel",
          "model_module_version": "1.5.0",
          "state": {
            "_dom_classes": [],
            "_model_module": "@jupyter-widgets/controls",
            "_model_module_version": "1.5.0",
            "_model_name": "FloatProgressModel",
            "_view_count": null,
            "_view_module": "@jupyter-widgets/controls",
            "_view_module_version": "1.5.0",
            "_view_name": "ProgressView",
            "bar_style": "success",
            "description": "",
            "description_tooltip": null,
            "layout": "IPY_MODEL_1d7b7c55969b4cb79b84c66d613da886",
            "max": 711649,
            "min": 0,
            "orientation": "horizontal",
            "style": "IPY_MODEL_ec1e75d7a9b1459c98f290e145177cc2",
            "value": 711649
          }
        },
        "c5a128a51f634b94a070e4ac4f2cefb0": {
          "model_module": "@jupyter-widgets/controls",
          "model_name": "HTMLModel",
          "model_module_version": "1.5.0",
          "state": {
            "_dom_classes": [],
            "_model_module": "@jupyter-widgets/controls",
            "_model_module_version": "1.5.0",
            "_model_name": "HTMLModel",
            "_view_count": null,
            "_view_module": "@jupyter-widgets/controls",
            "_view_module_version": "1.5.0",
            "_view_name": "HTMLView",
            "description": "",
            "description_tooltip": null,
            "layout": "IPY_MODEL_6462e755248046e69304da1501df23c4",
            "placeholder": "​",
            "style": "IPY_MODEL_f25fff6a32c14a9ba3075a474383917d",
            "value": " 712k/712k [00:00&lt;00:00, 1.67MB/s]"
          }
        },
        "0c3c1834fa1c47af9246a4c87a1616cc": {
          "model_module": "@jupyter-widgets/base",
          "model_name": "LayoutModel",
          "model_module_version": "1.2.0",
          "state": {
            "_model_module": "@jupyter-widgets/base",
            "_model_module_version": "1.2.0",
            "_model_name": "LayoutModel",
            "_view_count": null,
            "_view_module": "@jupyter-widgets/base",
            "_view_module_version": "1.2.0",
            "_view_name": "LayoutView",
            "align_content": null,
            "align_items": null,
            "align_self": null,
            "border": null,
            "bottom": null,
            "display": null,
            "flex": null,
            "flex_flow": null,
            "grid_area": null,
            "grid_auto_columns": null,
            "grid_auto_flow": null,
            "grid_auto_rows": null,
            "grid_column": null,
            "grid_gap": null,
            "grid_row": null,
            "grid_template_areas": null,
            "grid_template_columns": null,
            "grid_template_rows": null,
            "height": null,
            "justify_content": null,
            "justify_items": null,
            "left": null,
            "margin": null,
            "max_height": null,
            "max_width": null,
            "min_height": null,
            "min_width": null,
            "object_fit": null,
            "object_position": null,
            "order": null,
            "overflow": null,
            "overflow_x": null,
            "overflow_y": null,
            "padding": null,
            "right": null,
            "top": null,
            "visibility": null,
            "width": null
          }
        },
        "b3eb61ad89824697b859b6885fc6fba5": {
          "model_module": "@jupyter-widgets/base",
          "model_name": "LayoutModel",
          "model_module_version": "1.2.0",
          "state": {
            "_model_module": "@jupyter-widgets/base",
            "_model_module_version": "1.2.0",
            "_model_name": "LayoutModel",
            "_view_count": null,
            "_view_module": "@jupyter-widgets/base",
            "_view_module_version": "1.2.0",
            "_view_name": "LayoutView",
            "align_content": null,
            "align_items": null,
            "align_self": null,
            "border": null,
            "bottom": null,
            "display": null,
            "flex": null,
            "flex_flow": null,
            "grid_area": null,
            "grid_auto_columns": null,
            "grid_auto_flow": null,
            "grid_auto_rows": null,
            "grid_column": null,
            "grid_gap": null,
            "grid_row": null,
            "grid_template_areas": null,
            "grid_template_columns": null,
            "grid_template_rows": null,
            "height": null,
            "justify_content": null,
            "justify_items": null,
            "left": null,
            "margin": null,
            "max_height": null,
            "max_width": null,
            "min_height": null,
            "min_width": null,
            "object_fit": null,
            "object_position": null,
            "order": null,
            "overflow": null,
            "overflow_x": null,
            "overflow_y": null,
            "padding": null,
            "right": null,
            "top": null,
            "visibility": null,
            "width": null
          }
        },
        "7e02f32b91a54fba89732f702d1957ad": {
          "model_module": "@jupyter-widgets/controls",
          "model_name": "DescriptionStyleModel",
          "model_module_version": "1.5.0",
          "state": {
            "_model_module": "@jupyter-widgets/controls",
            "_model_module_version": "1.5.0",
            "_model_name": "DescriptionStyleModel",
            "_view_count": null,
            "_view_module": "@jupyter-widgets/base",
            "_view_module_version": "1.2.0",
            "_view_name": "StyleView",
            "description_width": ""
          }
        },
        "1d7b7c55969b4cb79b84c66d613da886": {
          "model_module": "@jupyter-widgets/base",
          "model_name": "LayoutModel",
          "model_module_version": "1.2.0",
          "state": {
            "_model_module": "@jupyter-widgets/base",
            "_model_module_version": "1.2.0",
            "_model_name": "LayoutModel",
            "_view_count": null,
            "_view_module": "@jupyter-widgets/base",
            "_view_module_version": "1.2.0",
            "_view_name": "LayoutView",
            "align_content": null,
            "align_items": null,
            "align_self": null,
            "border": null,
            "bottom": null,
            "display": null,
            "flex": null,
            "flex_flow": null,
            "grid_area": null,
            "grid_auto_columns": null,
            "grid_auto_flow": null,
            "grid_auto_rows": null,
            "grid_column": null,
            "grid_gap": null,
            "grid_row": null,
            "grid_template_areas": null,
            "grid_template_columns": null,
            "grid_template_rows": null,
            "height": null,
            "justify_content": null,
            "justify_items": null,
            "left": null,
            "margin": null,
            "max_height": null,
            "max_width": null,
            "min_height": null,
            "min_width": null,
            "object_fit": null,
            "object_position": null,
            "order": null,
            "overflow": null,
            "overflow_x": null,
            "overflow_y": null,
            "padding": null,
            "right": null,
            "top": null,
            "visibility": null,
            "width": null
          }
        },
        "ec1e75d7a9b1459c98f290e145177cc2": {
          "model_module": "@jupyter-widgets/controls",
          "model_name": "ProgressStyleModel",
          "model_module_version": "1.5.0",
          "state": {
            "_model_module": "@jupyter-widgets/controls",
            "_model_module_version": "1.5.0",
            "_model_name": "ProgressStyleModel",
            "_view_count": null,
            "_view_module": "@jupyter-widgets/base",
            "_view_module_version": "1.2.0",
            "_view_name": "StyleView",
            "bar_color": null,
            "description_width": ""
          }
        },
        "6462e755248046e69304da1501df23c4": {
          "model_module": "@jupyter-widgets/base",
          "model_name": "LayoutModel",
          "model_module_version": "1.2.0",
          "state": {
            "_model_module": "@jupyter-widgets/base",
            "_model_module_version": "1.2.0",
            "_model_name": "LayoutModel",
            "_view_count": null,
            "_view_module": "@jupyter-widgets/base",
            "_view_module_version": "1.2.0",
            "_view_name": "LayoutView",
            "align_content": null,
            "align_items": null,
            "align_self": null,
            "border": null,
            "bottom": null,
            "display": null,
            "flex": null,
            "flex_flow": null,
            "grid_area": null,
            "grid_auto_columns": null,
            "grid_auto_flow": null,
            "grid_auto_rows": null,
            "grid_column": null,
            "grid_gap": null,
            "grid_row": null,
            "grid_template_areas": null,
            "grid_template_columns": null,
            "grid_template_rows": null,
            "height": null,
            "justify_content": null,
            "justify_items": null,
            "left": null,
            "margin": null,
            "max_height": null,
            "max_width": null,
            "min_height": null,
            "min_width": null,
            "object_fit": null,
            "object_position": null,
            "order": null,
            "overflow": null,
            "overflow_x": null,
            "overflow_y": null,
            "padding": null,
            "right": null,
            "top": null,
            "visibility": null,
            "width": null
          }
        },
        "f25fff6a32c14a9ba3075a474383917d": {
          "model_module": "@jupyter-widgets/controls",
          "model_name": "DescriptionStyleModel",
          "model_module_version": "1.5.0",
          "state": {
            "_model_module": "@jupyter-widgets/controls",
            "_model_module_version": "1.5.0",
            "_model_name": "DescriptionStyleModel",
            "_view_count": null,
            "_view_module": "@jupyter-widgets/base",
            "_view_module_version": "1.2.0",
            "_view_name": "StyleView",
            "description_width": ""
          }
        },
        "c36708a48ece4ccc9826caf09b7cb11e": {
          "model_module": "@jupyter-widgets/controls",
          "model_name": "HBoxModel",
          "model_module_version": "1.5.0",
          "state": {
            "_dom_classes": [],
            "_model_module": "@jupyter-widgets/controls",
            "_model_module_version": "1.5.0",
            "_model_name": "HBoxModel",
            "_view_count": null,
            "_view_module": "@jupyter-widgets/controls",
            "_view_module_version": "1.5.0",
            "_view_name": "HBoxView",
            "box_style": "",
            "children": [
              "IPY_MODEL_3a1939201cbc49439cea3139a3f19206",
              "IPY_MODEL_2bcfa6174b8f4639a3dd9ecabbee6a6c",
              "IPY_MODEL_da4d4e8588414f17afac531db2230934"
            ],
            "layout": "IPY_MODEL_4a6245838896497f8832ae54cdfaab4d"
          }
        },
        "3a1939201cbc49439cea3139a3f19206": {
          "model_module": "@jupyter-widgets/controls",
          "model_name": "HTMLModel",
          "model_module_version": "1.5.0",
          "state": {
            "_dom_classes": [],
            "_model_module": "@jupyter-widgets/controls",
            "_model_module_version": "1.5.0",
            "_model_name": "HTMLModel",
            "_view_count": null,
            "_view_module": "@jupyter-widgets/controls",
            "_view_module_version": "1.5.0",
            "_view_name": "HTMLView",
            "description": "",
            "description_tooltip": null,
            "layout": "IPY_MODEL_218bd7822172465096d0e1df407620d7",
            "placeholder": "​",
            "style": "IPY_MODEL_d198863450f84a5cba26698f5e646870",
            "value": "special_tokens_map.json: 100%"
          }
        },
        "2bcfa6174b8f4639a3dd9ecabbee6a6c": {
          "model_module": "@jupyter-widgets/controls",
          "model_name": "FloatProgressModel",
          "model_module_version": "1.5.0",
          "state": {
            "_dom_classes": [],
            "_model_module": "@jupyter-widgets/controls",
            "_model_module_version": "1.5.0",
            "_model_name": "FloatProgressModel",
            "_view_count": null,
            "_view_module": "@jupyter-widgets/controls",
            "_view_module_version": "1.5.0",
            "_view_name": "ProgressView",
            "bar_style": "success",
            "description": "",
            "description_tooltip": null,
            "layout": "IPY_MODEL_c9a501c324a4401a8f7550e4b6660f2b",
            "max": 125,
            "min": 0,
            "orientation": "horizontal",
            "style": "IPY_MODEL_840842aafef841f195550de46eb7017c",
            "value": 125
          }
        },
        "da4d4e8588414f17afac531db2230934": {
          "model_module": "@jupyter-widgets/controls",
          "model_name": "HTMLModel",
          "model_module_version": "1.5.0",
          "state": {
            "_dom_classes": [],
            "_model_module": "@jupyter-widgets/controls",
            "_model_module_version": "1.5.0",
            "_model_name": "HTMLModel",
            "_view_count": null,
            "_view_module": "@jupyter-widgets/controls",
            "_view_module_version": "1.5.0",
            "_view_name": "HTMLView",
            "description": "",
            "description_tooltip": null,
            "layout": "IPY_MODEL_7c9a00048465406bada457ced42435d2",
            "placeholder": "​",
            "style": "IPY_MODEL_36dcbd65554045f59182841a419b8891",
            "value": " 125/125 [00:00&lt;00:00, 9.07kB/s]"
          }
        },
        "4a6245838896497f8832ae54cdfaab4d": {
          "model_module": "@jupyter-widgets/base",
          "model_name": "LayoutModel",
          "model_module_version": "1.2.0",
          "state": {
            "_model_module": "@jupyter-widgets/base",
            "_model_module_version": "1.2.0",
            "_model_name": "LayoutModel",
            "_view_count": null,
            "_view_module": "@jupyter-widgets/base",
            "_view_module_version": "1.2.0",
            "_view_name": "LayoutView",
            "align_content": null,
            "align_items": null,
            "align_self": null,
            "border": null,
            "bottom": null,
            "display": null,
            "flex": null,
            "flex_flow": null,
            "grid_area": null,
            "grid_auto_columns": null,
            "grid_auto_flow": null,
            "grid_auto_rows": null,
            "grid_column": null,
            "grid_gap": null,
            "grid_row": null,
            "grid_template_areas": null,
            "grid_template_columns": null,
            "grid_template_rows": null,
            "height": null,
            "justify_content": null,
            "justify_items": null,
            "left": null,
            "margin": null,
            "max_height": null,
            "max_width": null,
            "min_height": null,
            "min_width": null,
            "object_fit": null,
            "object_position": null,
            "order": null,
            "overflow": null,
            "overflow_x": null,
            "overflow_y": null,
            "padding": null,
            "right": null,
            "top": null,
            "visibility": null,
            "width": null
          }
        },
        "218bd7822172465096d0e1df407620d7": {
          "model_module": "@jupyter-widgets/base",
          "model_name": "LayoutModel",
          "model_module_version": "1.2.0",
          "state": {
            "_model_module": "@jupyter-widgets/base",
            "_model_module_version": "1.2.0",
            "_model_name": "LayoutModel",
            "_view_count": null,
            "_view_module": "@jupyter-widgets/base",
            "_view_module_version": "1.2.0",
            "_view_name": "LayoutView",
            "align_content": null,
            "align_items": null,
            "align_self": null,
            "border": null,
            "bottom": null,
            "display": null,
            "flex": null,
            "flex_flow": null,
            "grid_area": null,
            "grid_auto_columns": null,
            "grid_auto_flow": null,
            "grid_auto_rows": null,
            "grid_column": null,
            "grid_gap": null,
            "grid_row": null,
            "grid_template_areas": null,
            "grid_template_columns": null,
            "grid_template_rows": null,
            "height": null,
            "justify_content": null,
            "justify_items": null,
            "left": null,
            "margin": null,
            "max_height": null,
            "max_width": null,
            "min_height": null,
            "min_width": null,
            "object_fit": null,
            "object_position": null,
            "order": null,
            "overflow": null,
            "overflow_x": null,
            "overflow_y": null,
            "padding": null,
            "right": null,
            "top": null,
            "visibility": null,
            "width": null
          }
        },
        "d198863450f84a5cba26698f5e646870": {
          "model_module": "@jupyter-widgets/controls",
          "model_name": "DescriptionStyleModel",
          "model_module_version": "1.5.0",
          "state": {
            "_model_module": "@jupyter-widgets/controls",
            "_model_module_version": "1.5.0",
            "_model_name": "DescriptionStyleModel",
            "_view_count": null,
            "_view_module": "@jupyter-widgets/base",
            "_view_module_version": "1.2.0",
            "_view_name": "StyleView",
            "description_width": ""
          }
        },
        "c9a501c324a4401a8f7550e4b6660f2b": {
          "model_module": "@jupyter-widgets/base",
          "model_name": "LayoutModel",
          "model_module_version": "1.2.0",
          "state": {
            "_model_module": "@jupyter-widgets/base",
            "_model_module_version": "1.2.0",
            "_model_name": "LayoutModel",
            "_view_count": null,
            "_view_module": "@jupyter-widgets/base",
            "_view_module_version": "1.2.0",
            "_view_name": "LayoutView",
            "align_content": null,
            "align_items": null,
            "align_self": null,
            "border": null,
            "bottom": null,
            "display": null,
            "flex": null,
            "flex_flow": null,
            "grid_area": null,
            "grid_auto_columns": null,
            "grid_auto_flow": null,
            "grid_auto_rows": null,
            "grid_column": null,
            "grid_gap": null,
            "grid_row": null,
            "grid_template_areas": null,
            "grid_template_columns": null,
            "grid_template_rows": null,
            "height": null,
            "justify_content": null,
            "justify_items": null,
            "left": null,
            "margin": null,
            "max_height": null,
            "max_width": null,
            "min_height": null,
            "min_width": null,
            "object_fit": null,
            "object_position": null,
            "order": null,
            "overflow": null,
            "overflow_x": null,
            "overflow_y": null,
            "padding": null,
            "right": null,
            "top": null,
            "visibility": null,
            "width": null
          }
        },
        "840842aafef841f195550de46eb7017c": {
          "model_module": "@jupyter-widgets/controls",
          "model_name": "ProgressStyleModel",
          "model_module_version": "1.5.0",
          "state": {
            "_model_module": "@jupyter-widgets/controls",
            "_model_module_version": "1.5.0",
            "_model_name": "ProgressStyleModel",
            "_view_count": null,
            "_view_module": "@jupyter-widgets/base",
            "_view_module_version": "1.2.0",
            "_view_name": "StyleView",
            "bar_color": null,
            "description_width": ""
          }
        },
        "7c9a00048465406bada457ced42435d2": {
          "model_module": "@jupyter-widgets/base",
          "model_name": "LayoutModel",
          "model_module_version": "1.2.0",
          "state": {
            "_model_module": "@jupyter-widgets/base",
            "_model_module_version": "1.2.0",
            "_model_name": "LayoutModel",
            "_view_count": null,
            "_view_module": "@jupyter-widgets/base",
            "_view_module_version": "1.2.0",
            "_view_name": "LayoutView",
            "align_content": null,
            "align_items": null,
            "align_self": null,
            "border": null,
            "bottom": null,
            "display": null,
            "flex": null,
            "flex_flow": null,
            "grid_area": null,
            "grid_auto_columns": null,
            "grid_auto_flow": null,
            "grid_auto_rows": null,
            "grid_column": null,
            "grid_gap": null,
            "grid_row": null,
            "grid_template_areas": null,
            "grid_template_columns": null,
            "grid_template_rows": null,
            "height": null,
            "justify_content": null,
            "justify_items": null,
            "left": null,
            "margin": null,
            "max_height": null,
            "max_width": null,
            "min_height": null,
            "min_width": null,
            "object_fit": null,
            "object_position": null,
            "order": null,
            "overflow": null,
            "overflow_x": null,
            "overflow_y": null,
            "padding": null,
            "right": null,
            "top": null,
            "visibility": null,
            "width": null
          }
        },
        "36dcbd65554045f59182841a419b8891": {
          "model_module": "@jupyter-widgets/controls",
          "model_name": "DescriptionStyleModel",
          "model_module_version": "1.5.0",
          "state": {
            "_model_module": "@jupyter-widgets/controls",
            "_model_module_version": "1.5.0",
            "_model_name": "DescriptionStyleModel",
            "_view_count": null,
            "_view_module": "@jupyter-widgets/base",
            "_view_module_version": "1.2.0",
            "_view_name": "StyleView",
            "description_width": ""
          }
        },
        "ec551c3baa604a0a8522c265d6a1296b": {
          "model_module": "@jupyter-widgets/controls",
          "model_name": "HBoxModel",
          "model_module_version": "1.5.0",
          "state": {
            "_dom_classes": [],
            "_model_module": "@jupyter-widgets/controls",
            "_model_module_version": "1.5.0",
            "_model_name": "HBoxModel",
            "_view_count": null,
            "_view_module": "@jupyter-widgets/controls",
            "_view_module_version": "1.5.0",
            "_view_name": "HBoxView",
            "box_style": "",
            "children": [
              "IPY_MODEL_46f87ce4ba7b46f3a183a244767f2b7b",
              "IPY_MODEL_891ef35b7e5747bba628e05f967647d0",
              "IPY_MODEL_cc2a3dcba04c46569d594908bfc5db14"
            ],
            "layout": "IPY_MODEL_cab40ce48a3843b0903be207e7138b33"
          }
        },
        "46f87ce4ba7b46f3a183a244767f2b7b": {
          "model_module": "@jupyter-widgets/controls",
          "model_name": "HTMLModel",
          "model_module_version": "1.5.0",
          "state": {
            "_dom_classes": [],
            "_model_module": "@jupyter-widgets/controls",
            "_model_module_version": "1.5.0",
            "_model_name": "HTMLModel",
            "_view_count": null,
            "_view_module": "@jupyter-widgets/controls",
            "_view_module_version": "1.5.0",
            "_view_name": "HTMLView",
            "description": "",
            "description_tooltip": null,
            "layout": "IPY_MODEL_6066d12a2d5e4a02a07a93fa03c6fd0c",
            "placeholder": "​",
            "style": "IPY_MODEL_4bb0646eb7084d11be158602b8156a6b",
            "value": "config.json: 100%"
          }
        },
        "891ef35b7e5747bba628e05f967647d0": {
          "model_module": "@jupyter-widgets/controls",
          "model_name": "FloatProgressModel",
          "model_module_version": "1.5.0",
          "state": {
            "_dom_classes": [],
            "_model_module": "@jupyter-widgets/controls",
            "_model_module_version": "1.5.0",
            "_model_name": "FloatProgressModel",
            "_view_count": null,
            "_view_module": "@jupyter-widgets/controls",
            "_view_module_version": "1.5.0",
            "_view_name": "ProgressView",
            "bar_style": "success",
            "description": "",
            "description_tooltip": null,
            "layout": "IPY_MODEL_b2b069cd251b44d5a2451b785c404174",
            "max": 727,
            "min": 0,
            "orientation": "horizontal",
            "style": "IPY_MODEL_a23e2812e6f540a18c58e04dcd0a3bde",
            "value": 727
          }
        },
        "cc2a3dcba04c46569d594908bfc5db14": {
          "model_module": "@jupyter-widgets/controls",
          "model_name": "HTMLModel",
          "model_module_version": "1.5.0",
          "state": {
            "_dom_classes": [],
            "_model_module": "@jupyter-widgets/controls",
            "_model_module_version": "1.5.0",
            "_model_name": "HTMLModel",
            "_view_count": null,
            "_view_module": "@jupyter-widgets/controls",
            "_view_module_version": "1.5.0",
            "_view_name": "HTMLView",
            "description": "",
            "description_tooltip": null,
            "layout": "IPY_MODEL_e9f6cb892839402dac970b0bf97f2228",
            "placeholder": "​",
            "style": "IPY_MODEL_e5e8f21970974ab5a973e24b7fe30283",
            "value": " 727/727 [00:00&lt;00:00, 43.7kB/s]"
          }
        },
        "cab40ce48a3843b0903be207e7138b33": {
          "model_module": "@jupyter-widgets/base",
          "model_name": "LayoutModel",
          "model_module_version": "1.2.0",
          "state": {
            "_model_module": "@jupyter-widgets/base",
            "_model_module_version": "1.2.0",
            "_model_name": "LayoutModel",
            "_view_count": null,
            "_view_module": "@jupyter-widgets/base",
            "_view_module_version": "1.2.0",
            "_view_name": "LayoutView",
            "align_content": null,
            "align_items": null,
            "align_self": null,
            "border": null,
            "bottom": null,
            "display": null,
            "flex": null,
            "flex_flow": null,
            "grid_area": null,
            "grid_auto_columns": null,
            "grid_auto_flow": null,
            "grid_auto_rows": null,
            "grid_column": null,
            "grid_gap": null,
            "grid_row": null,
            "grid_template_areas": null,
            "grid_template_columns": null,
            "grid_template_rows": null,
            "height": null,
            "justify_content": null,
            "justify_items": null,
            "left": null,
            "margin": null,
            "max_height": null,
            "max_width": null,
            "min_height": null,
            "min_width": null,
            "object_fit": null,
            "object_position": null,
            "order": null,
            "overflow": null,
            "overflow_x": null,
            "overflow_y": null,
            "padding": null,
            "right": null,
            "top": null,
            "visibility": null,
            "width": null
          }
        },
        "6066d12a2d5e4a02a07a93fa03c6fd0c": {
          "model_module": "@jupyter-widgets/base",
          "model_name": "LayoutModel",
          "model_module_version": "1.2.0",
          "state": {
            "_model_module": "@jupyter-widgets/base",
            "_model_module_version": "1.2.0",
            "_model_name": "LayoutModel",
            "_view_count": null,
            "_view_module": "@jupyter-widgets/base",
            "_view_module_version": "1.2.0",
            "_view_name": "LayoutView",
            "align_content": null,
            "align_items": null,
            "align_self": null,
            "border": null,
            "bottom": null,
            "display": null,
            "flex": null,
            "flex_flow": null,
            "grid_area": null,
            "grid_auto_columns": null,
            "grid_auto_flow": null,
            "grid_auto_rows": null,
            "grid_column": null,
            "grid_gap": null,
            "grid_row": null,
            "grid_template_areas": null,
            "grid_template_columns": null,
            "grid_template_rows": null,
            "height": null,
            "justify_content": null,
            "justify_items": null,
            "left": null,
            "margin": null,
            "max_height": null,
            "max_width": null,
            "min_height": null,
            "min_width": null,
            "object_fit": null,
            "object_position": null,
            "order": null,
            "overflow": null,
            "overflow_x": null,
            "overflow_y": null,
            "padding": null,
            "right": null,
            "top": null,
            "visibility": null,
            "width": null
          }
        },
        "4bb0646eb7084d11be158602b8156a6b": {
          "model_module": "@jupyter-widgets/controls",
          "model_name": "DescriptionStyleModel",
          "model_module_version": "1.5.0",
          "state": {
            "_model_module": "@jupyter-widgets/controls",
            "_model_module_version": "1.5.0",
            "_model_name": "DescriptionStyleModel",
            "_view_count": null,
            "_view_module": "@jupyter-widgets/base",
            "_view_module_version": "1.2.0",
            "_view_name": "StyleView",
            "description_width": ""
          }
        },
        "b2b069cd251b44d5a2451b785c404174": {
          "model_module": "@jupyter-widgets/base",
          "model_name": "LayoutModel",
          "model_module_version": "1.2.0",
          "state": {
            "_model_module": "@jupyter-widgets/base",
            "_model_module_version": "1.2.0",
            "_model_name": "LayoutModel",
            "_view_count": null,
            "_view_module": "@jupyter-widgets/base",
            "_view_module_version": "1.2.0",
            "_view_name": "LayoutView",
            "align_content": null,
            "align_items": null,
            "align_self": null,
            "border": null,
            "bottom": null,
            "display": null,
            "flex": null,
            "flex_flow": null,
            "grid_area": null,
            "grid_auto_columns": null,
            "grid_auto_flow": null,
            "grid_auto_rows": null,
            "grid_column": null,
            "grid_gap": null,
            "grid_row": null,
            "grid_template_areas": null,
            "grid_template_columns": null,
            "grid_template_rows": null,
            "height": null,
            "justify_content": null,
            "justify_items": null,
            "left": null,
            "margin": null,
            "max_height": null,
            "max_width": null,
            "min_height": null,
            "min_width": null,
            "object_fit": null,
            "object_position": null,
            "order": null,
            "overflow": null,
            "overflow_x": null,
            "overflow_y": null,
            "padding": null,
            "right": null,
            "top": null,
            "visibility": null,
            "width": null
          }
        },
        "a23e2812e6f540a18c58e04dcd0a3bde": {
          "model_module": "@jupyter-widgets/controls",
          "model_name": "ProgressStyleModel",
          "model_module_version": "1.5.0",
          "state": {
            "_model_module": "@jupyter-widgets/controls",
            "_model_module_version": "1.5.0",
            "_model_name": "ProgressStyleModel",
            "_view_count": null,
            "_view_module": "@jupyter-widgets/base",
            "_view_module_version": "1.2.0",
            "_view_name": "StyleView",
            "bar_color": null,
            "description_width": ""
          }
        },
        "e9f6cb892839402dac970b0bf97f2228": {
          "model_module": "@jupyter-widgets/base",
          "model_name": "LayoutModel",
          "model_module_version": "1.2.0",
          "state": {
            "_model_module": "@jupyter-widgets/base",
            "_model_module_version": "1.2.0",
            "_model_name": "LayoutModel",
            "_view_count": null,
            "_view_module": "@jupyter-widgets/base",
            "_view_module_version": "1.2.0",
            "_view_name": "LayoutView",
            "align_content": null,
            "align_items": null,
            "align_self": null,
            "border": null,
            "bottom": null,
            "display": null,
            "flex": null,
            "flex_flow": null,
            "grid_area": null,
            "grid_auto_columns": null,
            "grid_auto_flow": null,
            "grid_auto_rows": null,
            "grid_column": null,
            "grid_gap": null,
            "grid_row": null,
            "grid_template_areas": null,
            "grid_template_columns": null,
            "grid_template_rows": null,
            "height": null,
            "justify_content": null,
            "justify_items": null,
            "left": null,
            "margin": null,
            "max_height": null,
            "max_width": null,
            "min_height": null,
            "min_width": null,
            "object_fit": null,
            "object_position": null,
            "order": null,
            "overflow": null,
            "overflow_x": null,
            "overflow_y": null,
            "padding": null,
            "right": null,
            "top": null,
            "visibility": null,
            "width": null
          }
        },
        "e5e8f21970974ab5a973e24b7fe30283": {
          "model_module": "@jupyter-widgets/controls",
          "model_name": "DescriptionStyleModel",
          "model_module_version": "1.5.0",
          "state": {
            "_model_module": "@jupyter-widgets/controls",
            "_model_module_version": "1.5.0",
            "_model_name": "DescriptionStyleModel",
            "_view_count": null,
            "_view_module": "@jupyter-widgets/base",
            "_view_module_version": "1.2.0",
            "_view_name": "StyleView",
            "description_width": ""
          }
        },
        "cb8a521ca0d94f49b1a85cd116bfcf79": {
          "model_module": "@jupyter-widgets/controls",
          "model_name": "HBoxModel",
          "model_module_version": "1.5.0",
          "state": {
            "_dom_classes": [],
            "_model_module": "@jupyter-widgets/controls",
            "_model_module_version": "1.5.0",
            "_model_name": "HBoxModel",
            "_view_count": null,
            "_view_module": "@jupyter-widgets/controls",
            "_view_module_version": "1.5.0",
            "_view_name": "HBoxView",
            "box_style": "",
            "children": [
              "IPY_MODEL_a3c8c808ed384548af758f4aef36adf5",
              "IPY_MODEL_fee977fa5de6488aabf287b9c5c0aa3a",
              "IPY_MODEL_096c27c0c9c04766a9aa4fd19a1cc515"
            ],
            "layout": "IPY_MODEL_cc9943d19a7649b895353e64e101591a"
          }
        },
        "a3c8c808ed384548af758f4aef36adf5": {
          "model_module": "@jupyter-widgets/controls",
          "model_name": "HTMLModel",
          "model_module_version": "1.5.0",
          "state": {
            "_dom_classes": [],
            "_model_module": "@jupyter-widgets/controls",
            "_model_module_version": "1.5.0",
            "_model_name": "HTMLModel",
            "_view_count": null,
            "_view_module": "@jupyter-widgets/controls",
            "_view_module_version": "1.5.0",
            "_view_name": "HTMLView",
            "description": "",
            "description_tooltip": null,
            "layout": "IPY_MODEL_24f80997eed24b418ff835556efddebf",
            "placeholder": "​",
            "style": "IPY_MODEL_54f7e85588a54805a52173930bb9f9e9",
            "value": "pytorch_model.bin: 100%"
          }
        },
        "fee977fa5de6488aabf287b9c5c0aa3a": {
          "model_module": "@jupyter-widgets/controls",
          "model_name": "FloatProgressModel",
          "model_module_version": "1.5.0",
          "state": {
            "_dom_classes": [],
            "_model_module": "@jupyter-widgets/controls",
            "_model_module_version": "1.5.0",
            "_model_name": "FloatProgressModel",
            "_view_count": null,
            "_view_module": "@jupyter-widgets/controls",
            "_view_module_version": "1.5.0",
            "_view_name": "ProgressView",
            "bar_style": "success",
            "description": "",
            "description_tooltip": null,
            "layout": "IPY_MODEL_25f2b31a639c47daa61cb4bbc0e6811c",
            "max": 438006125,
            "min": 0,
            "orientation": "horizontal",
            "style": "IPY_MODEL_834ab3479e3a4c7abe094f302529e082",
            "value": 438006125
          }
        },
        "096c27c0c9c04766a9aa4fd19a1cc515": {
          "model_module": "@jupyter-widgets/controls",
          "model_name": "HTMLModel",
          "model_module_version": "1.5.0",
          "state": {
            "_dom_classes": [],
            "_model_module": "@jupyter-widgets/controls",
            "_model_module_version": "1.5.0",
            "_model_name": "HTMLModel",
            "_view_count": null,
            "_view_module": "@jupyter-widgets/controls",
            "_view_module_version": "1.5.0",
            "_view_name": "HTMLView",
            "description": "",
            "description_tooltip": null,
            "layout": "IPY_MODEL_b93f4b6a9e834405b107faed7b99a74a",
            "placeholder": "​",
            "style": "IPY_MODEL_9895a21141b44586a72d1670af9f3219",
            "value": " 438M/438M [00:01&lt;00:00, 252MB/s]"
          }
        },
        "cc9943d19a7649b895353e64e101591a": {
          "model_module": "@jupyter-widgets/base",
          "model_name": "LayoutModel",
          "model_module_version": "1.2.0",
          "state": {
            "_model_module": "@jupyter-widgets/base",
            "_model_module_version": "1.2.0",
            "_model_name": "LayoutModel",
            "_view_count": null,
            "_view_module": "@jupyter-widgets/base",
            "_view_module_version": "1.2.0",
            "_view_name": "LayoutView",
            "align_content": null,
            "align_items": null,
            "align_self": null,
            "border": null,
            "bottom": null,
            "display": null,
            "flex": null,
            "flex_flow": null,
            "grid_area": null,
            "grid_auto_columns": null,
            "grid_auto_flow": null,
            "grid_auto_rows": null,
            "grid_column": null,
            "grid_gap": null,
            "grid_row": null,
            "grid_template_areas": null,
            "grid_template_columns": null,
            "grid_template_rows": null,
            "height": null,
            "justify_content": null,
            "justify_items": null,
            "left": null,
            "margin": null,
            "max_height": null,
            "max_width": null,
            "min_height": null,
            "min_width": null,
            "object_fit": null,
            "object_position": null,
            "order": null,
            "overflow": null,
            "overflow_x": null,
            "overflow_y": null,
            "padding": null,
            "right": null,
            "top": null,
            "visibility": null,
            "width": null
          }
        },
        "24f80997eed24b418ff835556efddebf": {
          "model_module": "@jupyter-widgets/base",
          "model_name": "LayoutModel",
          "model_module_version": "1.2.0",
          "state": {
            "_model_module": "@jupyter-widgets/base",
            "_model_module_version": "1.2.0",
            "_model_name": "LayoutModel",
            "_view_count": null,
            "_view_module": "@jupyter-widgets/base",
            "_view_module_version": "1.2.0",
            "_view_name": "LayoutView",
            "align_content": null,
            "align_items": null,
            "align_self": null,
            "border": null,
            "bottom": null,
            "display": null,
            "flex": null,
            "flex_flow": null,
            "grid_area": null,
            "grid_auto_columns": null,
            "grid_auto_flow": null,
            "grid_auto_rows": null,
            "grid_column": null,
            "grid_gap": null,
            "grid_row": null,
            "grid_template_areas": null,
            "grid_template_columns": null,
            "grid_template_rows": null,
            "height": null,
            "justify_content": null,
            "justify_items": null,
            "left": null,
            "margin": null,
            "max_height": null,
            "max_width": null,
            "min_height": null,
            "min_width": null,
            "object_fit": null,
            "object_position": null,
            "order": null,
            "overflow": null,
            "overflow_x": null,
            "overflow_y": null,
            "padding": null,
            "right": null,
            "top": null,
            "visibility": null,
            "width": null
          }
        },
        "54f7e85588a54805a52173930bb9f9e9": {
          "model_module": "@jupyter-widgets/controls",
          "model_name": "DescriptionStyleModel",
          "model_module_version": "1.5.0",
          "state": {
            "_model_module": "@jupyter-widgets/controls",
            "_model_module_version": "1.5.0",
            "_model_name": "DescriptionStyleModel",
            "_view_count": null,
            "_view_module": "@jupyter-widgets/base",
            "_view_module_version": "1.2.0",
            "_view_name": "StyleView",
            "description_width": ""
          }
        },
        "25f2b31a639c47daa61cb4bbc0e6811c": {
          "model_module": "@jupyter-widgets/base",
          "model_name": "LayoutModel",
          "model_module_version": "1.2.0",
          "state": {
            "_model_module": "@jupyter-widgets/base",
            "_model_module_version": "1.2.0",
            "_model_name": "LayoutModel",
            "_view_count": null,
            "_view_module": "@jupyter-widgets/base",
            "_view_module_version": "1.2.0",
            "_view_name": "LayoutView",
            "align_content": null,
            "align_items": null,
            "align_self": null,
            "border": null,
            "bottom": null,
            "display": null,
            "flex": null,
            "flex_flow": null,
            "grid_area": null,
            "grid_auto_columns": null,
            "grid_auto_flow": null,
            "grid_auto_rows": null,
            "grid_column": null,
            "grid_gap": null,
            "grid_row": null,
            "grid_template_areas": null,
            "grid_template_columns": null,
            "grid_template_rows": null,
            "height": null,
            "justify_content": null,
            "justify_items": null,
            "left": null,
            "margin": null,
            "max_height": null,
            "max_width": null,
            "min_height": null,
            "min_width": null,
            "object_fit": null,
            "object_position": null,
            "order": null,
            "overflow": null,
            "overflow_x": null,
            "overflow_y": null,
            "padding": null,
            "right": null,
            "top": null,
            "visibility": null,
            "width": null
          }
        },
        "834ab3479e3a4c7abe094f302529e082": {
          "model_module": "@jupyter-widgets/controls",
          "model_name": "ProgressStyleModel",
          "model_module_version": "1.5.0",
          "state": {
            "_model_module": "@jupyter-widgets/controls",
            "_model_module_version": "1.5.0",
            "_model_name": "ProgressStyleModel",
            "_view_count": null,
            "_view_module": "@jupyter-widgets/base",
            "_view_module_version": "1.2.0",
            "_view_name": "StyleView",
            "bar_color": null,
            "description_width": ""
          }
        },
        "b93f4b6a9e834405b107faed7b99a74a": {
          "model_module": "@jupyter-widgets/base",
          "model_name": "LayoutModel",
          "model_module_version": "1.2.0",
          "state": {
            "_model_module": "@jupyter-widgets/base",
            "_model_module_version": "1.2.0",
            "_model_name": "LayoutModel",
            "_view_count": null,
            "_view_module": "@jupyter-widgets/base",
            "_view_module_version": "1.2.0",
            "_view_name": "LayoutView",
            "align_content": null,
            "align_items": null,
            "align_self": null,
            "border": null,
            "bottom": null,
            "display": null,
            "flex": null,
            "flex_flow": null,
            "grid_area": null,
            "grid_auto_columns": null,
            "grid_auto_flow": null,
            "grid_auto_rows": null,
            "grid_column": null,
            "grid_gap": null,
            "grid_row": null,
            "grid_template_areas": null,
            "grid_template_columns": null,
            "grid_template_rows": null,
            "height": null,
            "justify_content": null,
            "justify_items": null,
            "left": null,
            "margin": null,
            "max_height": null,
            "max_width": null,
            "min_height": null,
            "min_width": null,
            "object_fit": null,
            "object_position": null,
            "order": null,
            "overflow": null,
            "overflow_x": null,
            "overflow_y": null,
            "padding": null,
            "right": null,
            "top": null,
            "visibility": null,
            "width": null
          }
        },
        "9895a21141b44586a72d1670af9f3219": {
          "model_module": "@jupyter-widgets/controls",
          "model_name": "DescriptionStyleModel",
          "model_module_version": "1.5.0",
          "state": {
            "_model_module": "@jupyter-widgets/controls",
            "_model_module_version": "1.5.0",
            "_model_name": "DescriptionStyleModel",
            "_view_count": null,
            "_view_module": "@jupyter-widgets/base",
            "_view_module_version": "1.2.0",
            "_view_name": "StyleView",
            "description_width": ""
          }
        }
      }
    }
  },
  "cells": [
    {
      "cell_type": "markdown",
      "source": [],
      "metadata": {
        "id": "SdAvwjPiUdpV"
      }
    },
    {
      "cell_type": "markdown",
      "source": [
        "##1.0 DATA UNDERSTANDING"
      ],
      "metadata": {
        "id": "RKgOyWZs9dAA"
      }
    },
    {
      "cell_type": "code",
      "execution_count": null,
      "metadata": {
        "id": "AeHIotmvPz2a"
      },
      "outputs": [],
      "source": [
        "# Import Required Packages\n",
        "import pandas as pd\n",
        "import numpy as np\n",
        "import zipfile\n",
        "import matplotlib.pyplot as plt\n",
        "import string\n",
        "from torch.utils.data import DataLoader, Dataset\n",
        "from sklearn.metrics import accuracy_score, classification_report\n",
        "from sklearn.model_selection import train_test_split\n",
        "import torch\n",
        "import torch.nn as nn\n",
        "from torch.optim import AdamW\n",
        "from torch.optim.lr_scheduler import StepLR\n",
        "import logging\n",
        "from tqdm import tqdm\n",
        "from transformers import AutoModelForSequenceClassification, AutoTokenizer, Trainer, TrainingArguments\n",
        "from sklearn.metrics import accuracy_score, precision_recall_fscore_support, confusion_matrix\n",
        "from torch.utils.data import DataLoader, Dataset\n",
        "from sklearn.utils import resample\n",
        "import seaborn as sns\n",
        "import nltk\n",
        "from nltk.corpus import stopwords\n"
      ]
    },
    {
      "cell_type": "code",
      "source": [
        "from google.colab import drive\n",
        "drive.mount('/content/drive')"
      ],
      "metadata": {
        "colab": {
          "base_uri": "https://localhost:8080/"
        },
        "id": "fw_yCI7pt9bm",
        "outputId": "cd3574b2-7c98-46b6-b478-bcc3462f1b24"
      },
      "execution_count": null,
      "outputs": [
        {
          "output_type": "stream",
          "name": "stdout",
          "text": [
            "Mounted at /content/drive\n"
          ]
        }
      ]
    },
    {
      "cell_type": "code",
      "source": [
        "import json\n",
        "\n",
        "# Specify the path to the JSON file in Google Drive\n",
        "# Specify the path to the JSON file in Google Drive\n",
        "json_file_path = '/content/drive/MyDrive/tweets_ws23_v1.json'\n",
        "\n",
        "redit_file_path = '/content/drive/MyDrive/sarcasm_detector/train-balanced-sarcasm.csv'\n",
        "\n",
        "# Load the JSON data\n",
        "with open(json_file_path, 'r') as file:\n",
        "    df = json.load(file)\n",
        "\n"
      ],
      "metadata": {
        "id": "kTzy4HkT_o_2"
      },
      "execution_count": null,
      "outputs": []
    },
    {
      "cell_type": "code",
      "source": [
        "\n",
        "\n",
        "# Load the JSON/csv files into a DataFrame\n",
        "tweet_df = pd.json_normalize(df)\n",
        "reddit_df = pd.read_csv(redit_file_path)\n",
        "\n",
        "# Display the first few rows of the Tweet DataFrame\n",
        "print( \"first few rows of Tweet Dataset: \", tweet_df.head())\n",
        "print(\"Shape of the normarlised Tweet Dataset: \", tweet_df.shape)\n"
      ],
      "metadata": {
        "colab": {
          "base_uri": "https://localhost:8080/"
        },
        "id": "kEHNUWAfssrh",
        "outputId": "4d52c74c-e9ee-48b0-e2f3-0df38bbcec38"
      },
      "execution_count": null,
      "outputs": [
        {
          "output_type": "stream",
          "name": "stdout",
          "text": [
            "first few rows of Tweet Dataset:              source_created_at           author_id  \\\n",
            "0  2020-09-18 21:56:20.798000           593731316   \n",
            "1  2020-10-13 07:31:53.122000  745583289520496640   \n",
            "2  2020-10-26 19:27:24.695000           303134761   \n",
            "3  2020-10-26 19:28:49.281000           303134761   \n",
            "4  2020-09-28 11:59:41.212000            56427671   \n",
            "\n",
            "                                                text    source language  \\\n",
            "0  @DSisourath The Thameslink core between London...  sprinklr       en   \n",
            "1  @DulwichHistory Loving the complaint about peo...  sprinklr       en   \n",
            "2  @SW_Help .And yet you have no toilets on some ...  sprinklr       en   \n",
            "3  @SW_Help you have no toilets on some of your t...  sprinklr       en   \n",
            "4  @SpeedySticks007 @MrNeilJH @TLRailUK @christia...  sprinklr       en   \n",
            "\n",
            "   longitude  latitude                                    id  \\\n",
            "0   -0.12574  51.50853  acd7673f-e621-5f1a-d662-df278964a6ea   \n",
            "1   -0.12574  51.50853  5b92aba8-4b05-6c63-8485-e9c870742137   \n",
            "2   -0.12574  51.50853  0a799c07-8b76-17ba-b840-e538d51e832d   \n",
            "3   -0.12574  51.50853  8b4d2a34-c4f0-0e19-4055-dfe4af5f0e14   \n",
            "4   -1.09125  50.79899  1fd08862-d8c7-0682-6b11-2603fba22d94   \n",
            "\n",
            "                                        labels.topic  \\\n",
            "0  [{'tweet_id': 'acd7673f-e621-5f1a-d662-df27896...   \n",
            "1  [{'tweet_id': '5b92aba8-4b05-6c63-8485-e9c8707...   \n",
            "2  [{'tweet_id': '0a799c07-8b76-17ba-b840-e538d51...   \n",
            "3  [{'tweet_id': '8b4d2a34-c4f0-0e19-4055-dfe4af5...   \n",
            "4  [{'tweet_id': '1fd08862-d8c7-0682-6b11-2603fba...   \n",
            "\n",
            "                                    labels.sentiment source_id  \n",
            "0  [{'tweet_id': 'acd7673f-e621-5f1a-d662-df27896...       NaN  \n",
            "1  [{'tweet_id': '5b92aba8-4b05-6c63-8485-e9c8707...       NaN  \n",
            "2  [{'tweet_id': '0a799c07-8b76-17ba-b840-e538d51...       NaN  \n",
            "3  [{'tweet_id': '8b4d2a34-c4f0-0e19-4055-dfe4af5...       NaN  \n",
            "4  [{'tweet_id': '1fd08862-d8c7-0682-6b11-2603fba...       NaN  \n",
            "Shape of the normarlised Tweet Dataset:  (16949, 11)\n"
          ]
        }
      ]
    },
    {
      "cell_type": "code",
      "source": [
        "# Display the shape and first few rows of the Reddit DataFrame\n",
        "\n",
        "print(\"Shape of the normarlised Reddit Dataset: \", reddit_df.shape)\n",
        "\n",
        "print( \"first few rows of Reddit Dataset: \", reddit_df.head())\n"
      ],
      "metadata": {
        "colab": {
          "base_uri": "https://localhost:8080/"
        },
        "id": "_wQm__MkrD7F",
        "outputId": "9c71f64b-9a6f-4fd8-ca91-9fb275fde279"
      },
      "execution_count": null,
      "outputs": [
        {
          "output_type": "stream",
          "name": "stdout",
          "text": [
            "Shape of the normarlised Reddit Dataset:  (1010826, 10)\n",
            "first few rows of Reddit Dataset:     label                                            comment     author  \\\n",
            "0      0                                         NC and NH.  Trumpbart   \n",
            "1      0  You do know west teams play against west teams...  Shbshb906   \n",
            "2      0  They were underdogs earlier today, but since G...   Creepeth   \n",
            "3      0  This meme isn't funny none of the \"new york ni...  icebrotha   \n",
            "4      0                    I could use one of those tools.  cush2push   \n",
            "\n",
            "            subreddit  score  ups  downs     date          created_utc  \\\n",
            "0            politics      2   -1     -1  2016-10  2016-10-16 23:55:23   \n",
            "1                 nba     -4   -1     -1  2016-11  2016-11-01 00:24:10   \n",
            "2                 nfl      3    3      0  2016-09  2016-09-22 21:45:37   \n",
            "3  BlackPeopleTwitter     -8   -1     -1  2016-10  2016-10-18 21:03:47   \n",
            "4  MaddenUltimateTeam      6   -1     -1  2016-12  2016-12-30 17:00:13   \n",
            "\n",
            "                                      parent_comment  \n",
            "0  Yeah, I get that argument. At this point, I'd ...  \n",
            "1  The blazers and Mavericks (The wests 5 and 6 s...  \n",
            "2                            They're favored to win.  \n",
            "3                         deadass don't kill my buzz  \n",
            "4  Yep can confirm I saw the tool they use for th...  \n"
          ]
        }
      ]
    },
    {
      "cell_type": "code",
      "source": [
        "print(reddit_df.columns)"
      ],
      "metadata": {
        "colab": {
          "base_uri": "https://localhost:8080/"
        },
        "id": "Zy1m4TXbSFjL",
        "outputId": "bb8d2e3e-0ade-4826-aa5e-0d12705025a2"
      },
      "execution_count": null,
      "outputs": [
        {
          "output_type": "stream",
          "name": "stdout",
          "text": [
            "Index(['label', 'comment', 'author', 'subreddit', 'score', 'ups', 'downs',\n",
            "       'date', 'created_utc', 'parent_comment'],\n",
            "      dtype='object')\n"
          ]
        }
      ]
    },
    {
      "cell_type": "code",
      "source": [
        "# Calculate lengths\n",
        "reddit_df['comment_length'] = reddit_df['comment'].astype(str).apply(len)\n",
        "\n",
        "# Get max, min, and average tweet length\n",
        "max_length = reddit_df['comment_length'].max()\n",
        "min_length = reddit_df['comment_length'].min()\n",
        "average_length = reddit_df['comment_length'].mean()\n",
        "\n",
        "print(\"Maximum tweet length:\", max_length)\n",
        "print(\"Minimum tweet length:\", min_length)\n",
        "print(\"Average tweet length:\", average_length)"
      ],
      "metadata": {
        "colab": {
          "base_uri": "https://localhost:8080/"
        },
        "id": "ZTzVkZdtv886",
        "outputId": "8be4ce7b-44cd-43e0-9d1c-1498742602ee"
      },
      "execution_count": null,
      "outputs": [
        {
          "output_type": "stream",
          "name": "stdout",
          "text": [
            "Maximum tweet length: 10000\n",
            "Minimum tweet length: 1\n",
            "Average tweet length: 56.68948167142515\n"
          ]
        }
      ]
    },
    {
      "cell_type": "code",
      "source": [],
      "metadata": {
        "id": "EWF4B0c_tMEZ"
      },
      "execution_count": null,
      "outputs": []
    },
    {
      "cell_type": "code",
      "source": [
        "# Assuming you have already calculated 'comment_length'\n",
        "reddit_df['comment_length'] = reddit_df['comment'].astype(str).apply(len)\n",
        "\n",
        "# Group by comment length and count occurrences\n",
        "comment_length_counts = reddit_df.groupby('comment_length')['comment'].count().reset_index()\n",
        "\n",
        "# Create a bar plot\n",
        "plt.figure(figsize=(10, 6))  # Adjust figure size as needed\n",
        "plt.bar(comment_length_counts['comment_length'], comment_length_counts['comment'])\n",
        "plt.xlabel('Comment Length (Number of Words)')\n",
        "plt.ylabel('Number of Comments')\n",
        "plt.title('Distribution of Comment Lengths')\n",
        "plt.xticks(rotation=45, ha='right')  # Rotate x-axis labels for better readability\n",
        "plt.tight_layout()  # Adjust layout to prevent labels from overlapping\n",
        "plt.show()"
      ],
      "metadata": {
        "colab": {
          "base_uri": "https://localhost:8080/",
          "height": 607
        },
        "id": "6XuZvBQWxKpD",
        "outputId": "d927ffef-dcd0-4e71-a0ed-eac04e27a32a"
      },
      "execution_count": null,
      "outputs": [
        {
          "output_type": "display_data",
          "data": {
            "text/plain": [
              "<Figure size 1000x600 with 1 Axes>"
            ],
            "image/png": "[encoded data removed]"
          },
          "metadata": {}
        }
      ]
    },
    {
      "cell_type": "code",
      "source": [
        "print(tweet_df.shape)\n",
        "print(tweet_df.columns)\n",
        "#print(tweet_df['text'].head())"
      ],
      "metadata": {
        "colab": {
          "base_uri": "https://localhost:8080/"
        },
        "id": "LRuBK0N6rgUl",
        "outputId": "d7a98a70-6abf-4f2e-a794-84bfa5ab0234"
      },
      "execution_count": null,
      "outputs": [
        {
          "output_type": "stream",
          "name": "stdout",
          "text": [
            "(16949, 11)\n",
            "Index(['source_created_at', 'author_id', 'text', 'source', 'language',\n",
            "       'longitude', 'latitude', 'id', 'labels.topic', 'labels.sentiment',\n",
            "       'source_id'],\n",
            "      dtype='object')\n"
          ]
        }
      ]
    },
    {
      "cell_type": "code",
      "source": [
        "# Strange characters in the Comments\n",
        "\n",
        "\n",
        "# Combine all text into one string\n",
        "all_text_reddit = ''.join(reddit_df['comment'].astype(str))\n",
        "\n",
        "# Get unique non-alphabetic characters\n",
        "non_alpha_characters_reddit = {char for char in set(all_text_reddit) if not char.isalpha()}\n",
        "\n",
        "print(non_alpha_characters_reddit)"
      ],
      "metadata": {
        "colab": {
          "base_uri": "https://localhost:8080/"
        },
        "id": "IDLUtLslAGn2",
        "outputId": "facc022f-65e4-4c20-d6f7-540a5ae27b47"
      },
      "execution_count": null,
      "outputs": [
        {
          "output_type": "stream",
          "name": "stdout",
          "text": [
            "{':', '6', '`', '5', '-', ']', ',', '~', '[', '4', '3', '\\x08', '+', '.', '*', '>', '%', '/', '@', '#', '^', ' ', '\\\\', '2', '|', '?', '&', '9', '0', '_', '$', ')', '7', '1', '8', '{', ';', '=', '(', '}', '\"', \"'\", '!'}\n"
          ]
        }
      ]
    },
    {
      "cell_type": "code",
      "source": [
        "# Strange characters in the Comments/tweets\n",
        "\n",
        "\n",
        "# Combine all text into one string\n",
        "all_text_tweet = ''.join(tweet_df['text'])\n",
        "\n",
        "# Get unique non-alphabetic characters\n",
        "non_alpha_characters_tweet = {char for char in set(all_text_tweet) if not char.isalpha()}\n",
        "\n",
        "print(non_alpha_characters_tweet)"
      ],
      "metadata": {
        "colab": {
          "base_uri": "https://localhost:8080/"
        },
        "id": "FGIhzE6W_Mge",
        "outputId": "59f75430-138d-4a74-db46-aa809083f960"
      },
      "execution_count": null,
      "outputs": [
        {
          "output_type": "stream",
          "name": "stdout",
          "text": [
            "{'⏱', '4', '🙌', '🏾', '☎', '🌞', '🌟', '\\U000e006e', '🌳', '😖', '🩺', '🖥', '👏', '📱', '🔥', '☀', '‘', '1', '☔', '😋', '😁', '🏉', '🎄', '`', '•', '”', '♿', '👆', '🤚', '😐', ')', '🎫', '📣', '😾', '😎', '⏰', '💁', '🥔', '£', '5', '\\U000e007f', '\\u3000', '@', '🌹', '🤧', '🤰', '🍍', '⚓', '📡', '⚠', '✌', '🚃', '😀', '☺', '🤔', '😥', '😣', '😒', '💩', '😃', '🤮', '⁉', '♀', '🥶', '🤷', '🙅', '🙉', '😂', '👷', '€', '🗺', '😏', '🛤', '🛠', '🍩', ';', '💤', '🥰', \"'\", '🤡', '💷', ':', '🚻', '📢', '♂', '-', '[', '»', '😙', '🙄', '🚦', '🙁', '🚲', '📴', '💙', '⚡', '🚄', '7', '😛', '🤯', '📲', '🚉', '🏡', '☁', '🖕', '😊', '👤', '.', '\\u2066', '🏆', '🚌', '🖌', '💚', '🍁', '$', '8', '🍆', '😦', '😫', '🧼', '📊', '%', '😌', '🚴', '👀', '🥴', '☹', '👊', '&', '😶', '🤬', '✅', '´', '😨', '🕯', '¾', '😕', '😱', '6', '3', '🚊', '/', '😤', '👉', '🤢', '😝', '😜', '🥳', '0', '🤪', '🐶', '➡', '–', '<', '🆕', '☕', '😓', '❤', '😡', '👋', '💦', '💨', '*', '>', '😴', '🐌', '🌍', '🚩', '🛑', '🌩', '=', '(', '💖', '\"', '🧐', '🚍', '🏴', ',', '🍐', '🤓', '😬', '🥂', '🕐', '❄', '🚆', '#', '🌧', '👍', '🐾', '🔁', '\\u2069', '🙊', '📈', '🎤', '🤭', '🙋', '😠', '👻', '😅', '“', '🇭', '🍻', '🕕', '🤣', '🧨', '🗑', '🚧', '½', '\\U000e0067', '’', '💡', '😆', '⛔', '^', ' ', '😢', '🏼', '9', '😞', '🧒', '🏽', '🥺', '«', '👇', '🚂', '🦠', '🦉', '⚽', '👁', '🌺', '️', '😔', '+', '🎉', '😰', '😯', '😉', '🙃', '🇨', '💥', '💃', '🍾', '\\U000e0065', '🗣', '🙂', '🧻', '🎟', '\\u200b', '🌎', '😘', '🏻', '🚞', '📆', '?', '😮', '😄', '👎', '😭', '😲', '😳', '☠', '🤦', '💺', '🌶', '💯', '😧', '🤞', '~', '👢', '😪', '📉', '🔌', '🚇', '🤗', '🕺', '👞', '✔', '💪', '\\u200d', '!', '☃', '🔧', '❌', '☝', '😍', '🌈', '😩', ']', '😷', '🤐', '👌', '💠', '🕵', '🚫', '2', '⬇', '🤨', '\\xa0', '🚽', '…', '😟', '°', '🏅', '💻', '🥵', '💞', '😵', '🤜', '🙏', '💵', '🌱', '|', '🤝', '_', '—', '🌵', '📍', '😑', '\\U000e0062', '⃣', '🙈'}\n"
          ]
        }
      ]
    },
    {
      "cell_type": "markdown",
      "source": [],
      "metadata": {
        "id": "ptnko1TGGEwI"
      }
    },
    {
      "cell_type": "markdown",
      "source": [
        "## 2.0 DATA PREPARATION"
      ],
      "metadata": {
        "id": "34kqfUBK9-56"
      }
    },
    {
      "cell_type": "code",
      "source": [
        "\n",
        "\n",
        "\n"
      ],
      "metadata": {
        "id": "JdZ8_jxA7Qr4"
      },
      "execution_count": null,
      "outputs": []
    },
    {
      "cell_type": "code",
      "source": [
        "\n"
      ],
      "metadata": {
        "id": "scwVC-0-NJVR"
      },
      "execution_count": null,
      "outputs": []
    },
    {
      "cell_type": "code",
      "source": [
        "# Configuration\n",
        "MODEL_PATH = \"jkhan447/sarcasm-detection-Bert-base-uncased-newdata\" # Import hugginface model model=\"jkhan447/sarcasm-detection-Bert-base-uncased-newdata\"\n",
        "BATCH_SIZE = 16\n",
        "MAX_LENGTH = 256\n",
        "EPOCHS = 3\n",
        "LEARNING_RATE = 2e-5\n",
        "DEVICE = \"cuda\" if torch.cuda.is_available() else \"cpu\"\n",
        "\n",
        "# Set up logging\n",
        "logging.basicConfig(level=logging.INFO)\n",
        "\n",
        "# Define preprocessing\n",
        "def preprocess_data(text: str) -> str:\n",
        "    # Remove everything except alphabetic characters and spaces\n",
        "    return ''.join([char.lower() for char in text if char.isalpha() or char.isspace()]).strip()\n"
      ],
      "metadata": {
        "id": "vNTNz10PFDdQ"
      },
      "execution_count": null,
      "outputs": []
    },
    {
      "cell_type": "code",
      "source": [
        "# Define Custom Dataset Class for mreprocessing\n",
        "class SarcasmDataset(Dataset):\n",
        "    def __init__(self, texts, labels, tokenizer, max_length):\n",
        "        self.texts = texts\n",
        "        self.labels = labels\n",
        "        self.tokenizer = tokenizer\n",
        "        self.max_length = max_length\n",
        "\n",
        "    def __len__(self):\n",
        "        return len(self.texts)\n",
        "\n",
        "    def __getitem__(self, idx):\n",
        "        text = preprocess_data(self.texts[idx])\n",
        "        inputs = self.tokenizer(\n",
        "            text, padding=\"max_length\", truncation=True, max_length=self.max_length, return_tensors=\"pt\"\n",
        "        )\n",
        "        input_ids = inputs[\"input_ids\"].squeeze()\n",
        "        attention_mask = inputs[\"attention_mask\"].squeeze()\n",
        "        label = torch.tensor(self.labels[idx], dtype=torch.long)\n",
        "        return {\"input_ids\": input_ids, \"attention_mask\": attention_mask, \"label\": label}\n",
        "\n"
      ],
      "metadata": {
        "id": "TSKPSr2iFfBo"
      },
      "execution_count": null,
      "outputs": []
    },
    {
      "cell_type": "code",
      "source": [
        "# Load tokenizer and model\n",
        "tokenizer = AutoTokenizer.from_pretrained(MODEL_PATH)\n",
        "model = AutoModelForSequenceClassification.from_pretrained(MODEL_PATH, num_labels=2)\n",
        "model.to(DEVICE)"
      ],
      "metadata": {
        "colab": {
          "base_uri": "https://localhost:8080/",
          "height": 1000,
          "referenced_widgets": [
            "1a5559f4406b44e4a0f80778f1a03fef",
            "6eec87f60f3941b2a0819d35dab4db3f",
            "1dad621519a946748d3098fb351d6bb9",
            "ddf730a8a3da4145a4ad6a881a219945",
            "740e09099daf4744bd036310b0163f4f",
            "31d1e9a76d8e46a89b0842a0af85ebc3",
            "6a2804086f164d33a94555b4d5bdb497",
            "2a26c9fbe6294ed9b46fbb7edfbdfd55",
            "15de67df803f40639470c0bd051a8e19",
            "43fa376441814ec99e58cc53ac709dea",
            "471888811fef4b3fafa4ad6adf254b89",
            "63e08f752e294f129cef2f9f62217132",
            "4d9ed1d105984313acdd622426997d52",
            "9f91d68790504d7ea44a394f6bd70e4d",
            "54f7a236da3e424a8d961b58948a89ec",
            "fecf6dc8c86e46c1819aed2bcef13778",
            "958f1663a5d74262bd4068fbda2fed1f",
            "b0191d6097974e7bb9ba9ad00076a698",
            "b0c2a76fce454c4d835b67cf9022a1a3",
            "9c325d069f6243ad8e7d5243768dd07f",
            "10d7ffbe9adc4fd28f26ae2ae7a93153",
            "1e1cc611ef984e328c7a767e9d156c0d",
            "c8e01fa2ad7744dc80544e63675da274",
            "2b07c9c7cd4847f8ae66e6e04f4b7e88",
            "9889fe24ff144da3ab0049b4634affad",
            "c5a128a51f634b94a070e4ac4f2cefb0",
            "0c3c1834fa1c47af9246a4c87a1616cc",
            "b3eb61ad89824697b859b6885fc6fba5",
            "7e02f32b91a54fba89732f702d1957ad",
            "1d7b7c55969b4cb79b84c66d613da886",
            "ec1e75d7a9b1459c98f290e145177cc2",
            "6462e755248046e69304da1501df23c4",
            "f25fff6a32c14a9ba3075a474383917d",
            "c36708a48ece4ccc9826caf09b7cb11e",
            "3a1939201cbc49439cea3139a3f19206",
            "2bcfa6174b8f4639a3dd9ecabbee6a6c",
            "da4d4e8588414f17afac531db2230934",
            "4a6245838896497f8832ae54cdfaab4d",
            "218bd7822172465096d0e1df407620d7",
            "d198863450f84a5cba26698f5e646870",
            "c9a501c324a4401a8f7550e4b6660f2b",
            "840842aafef841f195550de46eb7017c",
            "7c9a00048465406bada457ced42435d2",
            "36dcbd65554045f59182841a419b8891",
            "ec551c3baa604a0a8522c265d6a1296b",
            "46f87ce4ba7b46f3a183a244767f2b7b",
            "891ef35b7e5747bba628e05f967647d0",
            "cc2a3dcba04c46569d594908bfc5db14",
            "cab40ce48a3843b0903be207e7138b33",
            "6066d12a2d5e4a02a07a93fa03c6fd0c",
            "4bb0646eb7084d11be158602b8156a6b",
            "b2b069cd251b44d5a2451b785c404174",
            "a23e2812e6f540a18c58e04dcd0a3bde",
            "e9f6cb892839402dac970b0bf97f2228",
            "e5e8f21970974ab5a973e24b7fe30283",
            "cb8a521ca0d94f49b1a85cd116bfcf79",
            "a3c8c808ed384548af758f4aef36adf5",
            "fee977fa5de6488aabf287b9c5c0aa3a",
            "096c27c0c9c04766a9aa4fd19a1cc515",
            "cc9943d19a7649b895353e64e101591a",
            "24f80997eed24b418ff835556efddebf",
            "54f7e85588a54805a52173930bb9f9e9",
            "25f2b31a639c47daa61cb4bbc0e6811c",
            "834ab3479e3a4c7abe094f302529e082",
            "b93f4b6a9e834405b107faed7b99a74a",
            "9895a21141b44586a72d1670af9f3219"
          ]
        },
        "id": "rfPqp0NTFl4K",
        "outputId": "624b6726-651f-4645-f3cd-1813c20d9c76"
      },
      "execution_count": null,
      "outputs": [
        {
          "output_type": "stream",
          "name": "stderr",
          "text": [
            "/usr/local/lib/python3.10/dist-packages/huggingface_hub/utils/_auth.py:94: UserWarning: \n",
            "The secret `HF_TOKEN` does not exist in your Colab secrets.\n",
            "To authenticate with the Hugging Face Hub, create a token in your settings tab (https://huggingface.co/settings/tokens), set it as secret in your Google Colab and restart your session.\n",
            "You will be able to reuse this secret in all of your notebooks.\n",
            "Please note that authentication is recommended but still optional to access public models or datasets.\n",
            "  warnings.warn(\n"
          ]
        },
        {
          "output_type": "display_data",
          "data": {
            "text/plain": [
              "tokenizer_config.json:   0%|          | 0.00/348 [00:00<?, ?B/s]"
            ],
            "application/vnd.jupyter.widget-view+json": {
              "version_major": 2,
              "version_minor": 0,
              "model_id": "1a5559f4406b44e4a0f80778f1a03fef"
            }
          },
          "metadata": {}
        },
        {
          "output_type": "display_data",
          "data": {
            "text/plain": [
              "vocab.txt:   0%|          | 0.00/232k [00:00<?, ?B/s]"
            ],
            "application/vnd.jupyter.widget-view+json": {
              "version_major": 2,
              "version_minor": 0,
              "model_id": "63e08f752e294f129cef2f9f62217132"
            }
          },
          "metadata": {}
        },
        {
          "output_type": "display_data",
          "data": {
            "text/plain": [
              "tokenizer.json:   0%|          | 0.00/712k [00:00<?, ?B/s]"
            ],
            "application/vnd.jupyter.widget-view+json": {
              "version_major": 2,
              "version_minor": 0,
              "model_id": "c8e01fa2ad7744dc80544e63675da274"
            }
          },
          "metadata": {}
        },
        {
          "output_type": "display_data",
          "data": {
            "text/plain": [
              "special_tokens_map.json:   0%|          | 0.00/125 [00:00<?, ?B/s]"
            ],
            "application/vnd.jupyter.widget-view+json": {
              "version_major": 2,
              "version_minor": 0,
              "model_id": "c36708a48ece4ccc9826caf09b7cb11e"
            }
          },
          "metadata": {}
        },
        {
          "output_type": "display_data",
          "data": {
            "text/plain": [
              "config.json:   0%|          | 0.00/727 [00:00<?, ?B/s]"
            ],
            "application/vnd.jupyter.widget-view+json": {
              "version_major": 2,
              "version_minor": 0,
              "model_id": "ec551c3baa604a0a8522c265d6a1296b"
            }
          },
          "metadata": {}
        },
        {
          "output_type": "display_data",
          "data": {
            "text/plain": [
              "pytorch_model.bin:   0%|          | 0.00/438M [00:00<?, ?B/s]"
            ],
            "application/vnd.jupyter.widget-view+json": {
              "version_major": 2,
              "version_minor": 0,
              "model_id": "cb8a521ca0d94f49b1a85cd116bfcf79"
            }
          },
          "metadata": {}
        },
        {
          "output_type": "execute_result",
          "data": {
            "text/plain": [
              "BertForSequenceClassification(\n",
              "  (bert): BertModel(\n",
              "    (embeddings): BertEmbeddings(\n",
              "      (word_embeddings): Embedding(30522, 768, padding_idx=0)\n",
              "      (position_embeddings): Embedding(512, 768)\n",
              "      (token_type_embeddings): Embedding(2, 768)\n",
              "      (LayerNorm): LayerNorm((768,), eps=1e-12, elementwise_affine=True)\n",
              "      (dropout): Dropout(p=0.1, inplace=False)\n",
              "    )\n",
              "    (encoder): BertEncoder(\n",
              "      (layer): ModuleList(\n",
              "        (0-11): 12 x BertLayer(\n",
              "          (attention): BertAttention(\n",
              "            (self): BertSdpaSelfAttention(\n",
              "              (query): Linear(in_features=768, out_features=768, bias=True)\n",
              "              (key): Linear(in_features=768, out_features=768, bias=True)\n",
              "              (value): Linear(in_features=768, out_features=768, bias=True)\n",
              "              (dropout): Dropout(p=0.1, inplace=False)\n",
              "            )\n",
              "            (output): BertSelfOutput(\n",
              "              (dense): Linear(in_features=768, out_features=768, bias=True)\n",
              "              (LayerNorm): LayerNorm((768,), eps=1e-12, elementwise_affine=True)\n",
              "              (dropout): Dropout(p=0.1, inplace=False)\n",
              "            )\n",
              "          )\n",
              "          (intermediate): BertIntermediate(\n",
              "            (dense): Linear(in_features=768, out_features=3072, bias=True)\n",
              "            (intermediate_act_fn): GELUActivation()\n",
              "          )\n",
              "          (output): BertOutput(\n",
              "            (dense): Linear(in_features=3072, out_features=768, bias=True)\n",
              "            (LayerNorm): LayerNorm((768,), eps=1e-12, elementwise_affine=True)\n",
              "            (dropout): Dropout(p=0.1, inplace=False)\n",
              "          )\n",
              "        )\n",
              "      )\n",
              "    )\n",
              "    (pooler): BertPooler(\n",
              "      (dense): Linear(in_features=768, out_features=768, bias=True)\n",
              "      (activation): Tanh()\n",
              "    )\n",
              "  )\n",
              "  (dropout): Dropout(p=0.1, inplace=False)\n",
              "  (classifier): Linear(in_features=768, out_features=2, bias=True)\n",
              ")"
            ]
          },
          "metadata": {},
          "execution_count": 14
        }
      ]
    },
    {
      "cell_type": "code",
      "source": [
        "# Load and balance dataset\n",
        "samples_per_class = 10000 // reddit_df['label'].nunique()\n",
        "balanced_reddit_df = pd.concat([\n",
        "    resample(reddit_df[reddit_df['label'] == label],\n",
        "             replace=False,\n",
        "             n_samples=samples_per_class,\n",
        "             random_state=42)\n",
        "    for label in reddit_df['label'].unique()\n",
        "])\n",
        "\n",
        "# Split Data into train and test data\n",
        "train_texts, test_texts, train_labels, test_labels = train_test_split(\n",
        "    balanced_reddit_df['comment'].astype(str), balanced_reddit_df['label'], test_size=0.2, random_state=42\n",
        ")"
      ],
      "metadata": {
        "id": "q4t-Kesq4-7d"
      },
      "execution_count": null,
      "outputs": []
    },
    {
      "cell_type": "code",
      "source": [
        "train_dataset = SarcasmDataset(train_texts.tolist(), train_labels.tolist(), tokenizer, MAX_LENGTH)\n",
        "test_dataset = SarcasmDataset(test_texts.tolist(), test_labels.tolist(), tokenizer, MAX_LENGTH)\n"
      ],
      "metadata": {
        "id": "KOug36EwFlf2"
      },
      "execution_count": null,
      "outputs": []
    },
    {
      "cell_type": "markdown",
      "source": [
        "#### 2.2 Preprocess tweet datasets"
      ],
      "metadata": {
        "id": "BcL0UWXPy7FK"
      }
    },
    {
      "cell_type": "code",
      "source": [],
      "metadata": {
        "id": "kG2QH2LN1STi"
      },
      "execution_count": null,
      "outputs": []
    },
    {
      "cell_type": "markdown",
      "source": [
        "## 3.0 Modelling"
      ],
      "metadata": {
        "id": "qVV-hBbeyonW"
      }
    },
    {
      "cell_type": "code",
      "source": [
        "\n",
        "# Define TrainingArguments\n",
        "training_args = TrainingArguments(\n",
        "    output_dir=\"./sarcasm_detector_results\",   # Directory to save model checkpoints and logs\n",
        "    evaluation_strategy=\"epoch\",               # Evaluate at each epoch\n",
        "    learning_rate=LEARNING_RATE,               # Learning rate\n",
        "    per_device_train_batch_size=BATCH_SIZE,    # Batch size for training\n",
        "    per_device_eval_batch_size=BATCH_SIZE,     # Batch size for evaluation\n",
        "    num_train_epochs=EPOCHS,                   # Number of training epochs\n",
        "    weight_decay=0.01,                         # Weight decay for regularization\n",
        "    logging_dir=\"./logs\",                      # Directory for logs\n",
        "    save_strategy=\"epoch\",                     # Save checkpoint at the end of each epoch\n",
        "    load_best_model_at_end=True,               # Load the best model at the end of training\n",
        "    metric_for_best_model=\"accuracy\",          # Use accuracy to select the best model\n",
        "    report_to=\"none\"                           # Disable logging to external services (e.g., WandB)\n",
        ")\n",
        "\n",
        "# Define compute_metrics function\n",
        "def compute_metrics(eval_pred):\n",
        "    predictions, labels = eval_pred\n",
        "    preds = predictions.argmax(-1)\n",
        "\n",
        "    accuracy = accuracy_score(labels, preds)\n",
        "    precision, recall, f1, _ = precision_recall_fscore_support(labels, preds, average=\"binary\")\n",
        "\n",
        "    return {\n",
        "        \"accuracy\": accuracy,\n",
        "        \"f1\": f1,\n",
        "        \"precision\": precision,\n",
        "        \"recall\": recall\n",
        "    }\n",
        "\n",
        "\n"
      ],
      "metadata": {
        "colab": {
          "base_uri": "https://localhost:8080/"
        },
        "id": "80zYXOhAF7xe",
        "outputId": "d4e60930-4267-403e-b5da-17ffdc9855bb"
      },
      "execution_count": null,
      "outputs": [
        {
          "output_type": "stream",
          "name": "stderr",
          "text": [
            "/usr/local/lib/python3.10/dist-packages/transformers/training_args.py:1568: FutureWarning: `evaluation_strategy` is deprecated and will be removed in version 4.46 of 🤗 Transformers. Use `eval_strategy` instead\n",
            "  warnings.warn(\n"
          ]
        }
      ]
    },
    {
      "cell_type": "code",
      "source": [
        "# Trainer setup\n",
        "trainer = Trainer(\n",
        "    model=model,\n",
        "    args=training_args,\n",
        "    train_dataset=train_dataset,\n",
        "    eval_dataset=test_dataset,\n",
        "    compute_metrics=compute_metrics\n",
        ")\n",
        "\n",
        "# Training and evaluation\n",
        "trainer.train()\n",
        "\n",
        "# Get training metrics\n",
        "history = trainer.state.log_history\n"
      ],
      "metadata": {
        "id": "q2T5KoPTHWxN",
        "colab": {
          "base_uri": "https://localhost:8080/",
          "height": 169
        },
        "outputId": "681bd4f3-033e-42b3-904c-6836114cdb33"
      },
      "execution_count": null,
      "outputs": [
        {
          "output_type": "display_data",
          "data": {
            "text/plain": [
              "<IPython.core.display.HTML object>"
            ],
            "text/html": [
              "\n",
              "    <div>\n",
              "      \n",
              "      <progress value='1500' max='1500' style='width:300px; height:20px; vertical-align: middle;'></progress>\n",
              "      [1500/1500 19:10, Epoch 3/3]\n",
              "    </div>\n",
              "    <table border=\"1\" class=\"dataframe\">\n",
              "  <thead>\n",
              " <tr style=\"text-align: left;\">\n",
              "      <th>Epoch</th>\n",
              "      <th>Training Loss</th>\n",
              "      <th>Validation Loss</th>\n",
              "      <th>Accuracy</th>\n",
              "      <th>F1</th>\n",
              "      <th>Precision</th>\n",
              "      <th>Recall</th>\n",
              "    </tr>\n",
              "  </thead>\n",
              "  <tbody>\n",
              "    <tr>\n",
              "      <td>1</td>\n",
              "      <td>0.406900</td>\n",
              "      <td>0.381343</td>\n",
              "      <td>0.830500</td>\n",
              "      <td>0.825528</td>\n",
              "      <td>0.839791</td>\n",
              "      <td>0.811741</td>\n",
              "    </tr>\n",
              "    <tr>\n",
              "      <td>2</td>\n",
              "      <td>0.213100</td>\n",
              "      <td>0.515858</td>\n",
              "      <td>0.825500</td>\n",
              "      <td>0.827313</td>\n",
              "      <td>0.809293</td>\n",
              "      <td>0.846154</td>\n",
              "    </tr>\n",
              "    <tr>\n",
              "      <td>3</td>\n",
              "      <td>0.112500</td>\n",
              "      <td>0.729365</td>\n",
              "      <td>0.822500</td>\n",
              "      <td>0.822943</td>\n",
              "      <td>0.811209</td>\n",
              "      <td>0.835020</td>\n",
              "    </tr>\n",
              "  </tbody>\n",
              "</table><p>"
            ]
          },
          "metadata": {}
        }
      ]
    },
    {
      "cell_type": "code",
      "source": [
        "# Save the trained model and tokenizer\n",
        "model.save_pretrained(\"/content/drive/MyDrive/sac_model_output\")\n",
        "tokenizer.save_pretrained(\"/content/drive/MyDrive/sac_model_output\")"
      ],
      "metadata": {
        "id": "zJiFazPP1YKV",
        "colab": {
          "base_uri": "https://localhost:8080/"
        },
        "outputId": "8f6174d9-c8ea-43b5-9c96-f0123a8f1a4b"
      },
      "execution_count": null,
      "outputs": [
        {
          "output_type": "execute_result",
          "data": {
            "text/plain": [
              "('/content/drive/MyDrive/sac_model_output/tokenizer_config.json',\n",
              " '/content/drive/MyDrive/sac_model_output/special_tokens_map.json',\n",
              " '/content/drive/MyDrive/sac_model_output/vocab.txt',\n",
              " '/content/drive/MyDrive/sac_model_output/added_tokens.json',\n",
              " '/content/drive/MyDrive/sac_model_output/tokenizer.json')"
            ]
          },
          "metadata": {},
          "execution_count": 19
        }
      ]
    },
    {
      "cell_type": "code",
      "source": [
        "# Evaluate on test set and display confusion matrix\n",
        "predictions = trainer.predict(test_dataset)\n",
        "preds = np.argmax(predictions.predictions, axis=1)\n",
        "\n",
        "conf_matrix = confusion_matrix(test_labels, preds)\n",
        "plt.figure(figsize=(6, 6))\n",
        "sns.heatmap(conf_matrix, annot=True, fmt=\"d\", cmap=\"Blues\", xticklabels=[\"Not Sarcastic\", \"Sarcastic\"], yticklabels=[\"Not Sarcastic\", \"Sarcastic\"])\n",
        "plt.xlabel(\"Predicted Label\")\n",
        "plt.ylabel(\"True Label\")\n",
        "plt.title(\"Confusion Matrix\")\n",
        "plt.show()"
      ],
      "metadata": {
        "id": "eH4U_zpb1XZi",
        "colab": {
          "base_uri": "https://localhost:8080/",
          "height": 564
        },
        "outputId": "a32884b6-e11f-40dd-d56d-4e02b018eb89"
      },
      "execution_count": null,
      "outputs": [
        {
          "output_type": "display_data",
          "data": {
            "text/plain": [
              "<IPython.core.display.HTML object>"
            ],
            "text/html": []
          },
          "metadata": {}
        },
        {
          "output_type": "display_data",
          "data": {
            "text/plain": [
              "<Figure size 600x600 with 2 Axes>"
            ],
            "image/png": "[encoded data removed]"
          },
          "metadata": {}
        }
      ]
    },
    {
      "cell_type": "code",
      "source": [
        "print(history)"
      ],
      "metadata": {
        "id": "J7-N4Ga4W6UT",
        "colab": {
          "base_uri": "https://localhost:8080/"
        },
        "outputId": "5775f797-4a9b-49b2-f92a-40ab56dec8e5"
      },
      "execution_count": null,
      "outputs": [
        {
          "output_type": "stream",
          "name": "stdout",
          "text": [
            "[{'loss': 0.4069, 'grad_norm': 10.235968589782715, 'learning_rate': 1.3333333333333333e-05, 'epoch': 1.0, 'step': 500}, {'eval_loss': 0.3813434839248657, 'eval_accuracy': 0.8305, 'eval_f1': 0.8255275347400927, 'eval_precision': 0.8397905759162304, 'eval_recall': 0.8117408906882592, 'eval_runtime': 28.5798, 'eval_samples_per_second': 69.98, 'eval_steps_per_second': 4.374, 'epoch': 1.0, 'step': 500}, {'loss': 0.2131, 'grad_norm': 31.21587371826172, 'learning_rate': 6.666666666666667e-06, 'epoch': 2.0, 'step': 1000}, {'eval_loss': 0.5158575177192688, 'eval_accuracy': 0.8255, 'eval_f1': 0.8273132112815438, 'eval_precision': 0.8092933204259438, 'eval_recall': 0.8461538461538461, 'eval_runtime': 27.4893, 'eval_samples_per_second': 72.755, 'eval_steps_per_second': 4.547, 'epoch': 2.0, 'step': 1000}, {'loss': 0.1125, 'grad_norm': 3.7430877685546875, 'learning_rate': 0.0, 'epoch': 3.0, 'step': 1500}, {'eval_loss': 0.7293645143508911, 'eval_accuracy': 0.8225, 'eval_f1': 0.8229426433915212, 'eval_precision': 0.8112094395280236, 'eval_recall': 0.8350202429149798, 'eval_runtime': 28.7816, 'eval_samples_per_second': 69.489, 'eval_steps_per_second': 4.343, 'epoch': 3.0, 'step': 1500}, {'train_runtime': 1153.1989, 'train_samples_per_second': 20.812, 'train_steps_per_second': 1.301, 'total_flos': 3157332664320000.0, 'train_loss': 0.24417598724365233, 'epoch': 3.0, 'step': 1500}]\n"
          ]
        }
      ]
    },
    {
      "cell_type": "markdown",
      "source": [
        "### 3.2 Deploy to Interpretation model"
      ],
      "metadata": {
        "id": "Z9G6yI6rh30l"
      }
    },
    {
      "cell_type": "code",
      "source": [
        "#Model path\n",
        "model_path = \"/content/drive/MyDrive/sac_model_output\"\n",
        "# Load the model and tokenizer from the saved directory\n",
        "final_model = AutoModelForSequenceClassification.from_pretrained(model_path)\n",
        "tokenizer = AutoTokenizer.from_pretrained(model_path)\n"
      ],
      "metadata": {
        "id": "rA_Vef6UHRsP"
      },
      "execution_count": null,
      "outputs": []
    },
    {
      "cell_type": "markdown",
      "source": [],
      "metadata": {
        "id": "qktDE819of6_"
      }
    },
    {
      "cell_type": "code",
      "source": [
        "from transformers import AutoModelForSequenceClassification, AutoTokenizer\n",
        "import torch\n",
        "\n",
        "# Configuration\n",
        "DEVICE = \"cuda\" if torch.cuda.is_available() else \"cpu\"\n",
        "MAX_LENGTH = 256\n",
        "\n",
        "\n",
        "# Load the model and tokenizer\n",
        "model = AutoModelForSequenceClassification.from_pretrained(model_path)\n",
        "tokenizer = AutoTokenizer.from_pretrained(model_path)\n",
        "model.to(DEVICE)\n",
        "\n",
        "# Preprocessing function (same as during training)\n",
        "def preprocess_data(text: str) -> str:\n",
        "    return ''.join([char.lower() for char in text if char.isalpha() or char.isspace()]).strip()\n",
        "\n",
        "# Prediction function\n",
        "def predict_text(text: str) -> dict:\n",
        "    # Preprocess the input text\n",
        "    text = preprocess_data(text)\n",
        "\n",
        "    # Tokenize the input text\n",
        "    inputs = tokenizer(text, padding=\"max_length\", truncation=True, max_length=MAX_LENGTH, return_tensors=\"pt\").to(DEVICE)\n",
        "\n",
        "    # Make the prediction\n",
        "    with torch.no_grad():\n",
        "        output = model(**inputs)\n",
        "\n",
        "    # Get logits and apply softmax to convert them to probabilities\n",
        "    probs = output.logits.softmax(dim=-1).tolist()[0]\n",
        "\n",
        "    # Get the predicted class and confidence score\n",
        "    confidence = max(probs)\n",
        "    predicted_class = torch.argmax(output.logits, dim=-1).item()\n",
        "\n",
        "    # Map predicted_class to actual class name\n",
        "    class_names = [\"Not Sarcastic\", \"Sarcastic\"]\n",
        "    result = {\n",
        "        \"prediction\": class_names[predicted_class],\n",
        "        \"confidence\": confidence\n",
        "    }\n",
        "\n",
        "    return result\n",
        "\n",
        "# Apply the prediction function to the 'text' column\n",
        "def apply_predictions(df):\n",
        "    # Apply the `predict_text` function to each row in the 'text' column\n",
        "    predictions = df['text'].apply(lambda x: predict_text(x))\n",
        "\n",
        "    # Extract prediction and confidence into separate columns\n",
        "    df['prediction'] = predictions.apply(lambda x: x['prediction'])\n",
        "    df['confidence'] = predictions.apply(lambda x: x['confidence'])\n",
        "\n",
        "    return df\n",
        "\n",
        "\n",
        "\n",
        "\n"
      ],
      "metadata": {
        "id": "TGgVYct3GWFB"
      },
      "execution_count": null,
      "outputs": []
    },
    {
      "cell_type": "code",
      "source": [
        "# Example: Apply predictions to the DataFrame\n",
        "tweet_prediction_df = apply_predictions(tweet_df)"
      ],
      "metadata": {
        "id": "NGOhtbNLPUYR"
      },
      "execution_count": null,
      "outputs": []
    },
    {
      "cell_type": "code",
      "source": [
        "# Show the updated DataFrame\n",
        "print(tweet_prediction_df.head())\n",
        "\n",
        "# Saving the Predictions\n",
        "tweet_prediction_df.to_csv(\"/content/drive/MyDrive/tweet_prediction_df.csv\", index=False)"
      ],
      "metadata": {
        "colab": {
          "base_uri": "https://localhost:8080/"
        },
        "id": "gtJ8r-sBPUm-",
        "outputId": "4b1fccf4-dd88-4c59-ab14-d0050a1d8ec3"
      },
      "execution_count": null,
      "outputs": [
        {
          "output_type": "stream",
          "name": "stdout",
          "text": [
            "            source_created_at           author_id  \\\n",
            "0  2020-09-18 21:56:20.798000           593731316   \n",
            "1  2020-10-13 07:31:53.122000  745583289520496640   \n",
            "2  2020-10-26 19:27:24.695000           303134761   \n",
            "3  2020-10-26 19:28:49.281000           303134761   \n",
            "4  2020-09-28 11:59:41.212000            56427671   \n",
            "\n",
            "                                                text    source language  \\\n",
            "0  @DSisourath The Thameslink core between London...  sprinklr       en   \n",
            "1  @DulwichHistory Loving the complaint about peo...  sprinklr       en   \n",
            "2  @SW_Help .And yet you have no toilets on some ...  sprinklr       en   \n",
            "3  @SW_Help you have no toilets on some of your t...  sprinklr       en   \n",
            "4  @SpeedySticks007 @MrNeilJH @TLRailUK @christia...  sprinklr       en   \n",
            "\n",
            "   longitude  latitude                                    id  \\\n",
            "0   -0.12574  51.50853  acd7673f-e621-5f1a-d662-df278964a6ea   \n",
            "1   -0.12574  51.50853  5b92aba8-4b05-6c63-8485-e9c870742137   \n",
            "2   -0.12574  51.50853  0a799c07-8b76-17ba-b840-e538d51e832d   \n",
            "3   -0.12574  51.50853  8b4d2a34-c4f0-0e19-4055-dfe4af5f0e14   \n",
            "4   -1.09125  50.79899  1fd08862-d8c7-0682-6b11-2603fba22d94   \n",
            "\n",
            "                                        labels.topic  \\\n",
            "0  [{'tweet_id': 'acd7673f-e621-5f1a-d662-df27896...   \n",
            "1  [{'tweet_id': '5b92aba8-4b05-6c63-8485-e9c8707...   \n",
            "2  [{'tweet_id': '0a799c07-8b76-17ba-b840-e538d51...   \n",
            "3  [{'tweet_id': '8b4d2a34-c4f0-0e19-4055-dfe4af5...   \n",
            "4  [{'tweet_id': '1fd08862-d8c7-0682-6b11-2603fba...   \n",
            "\n",
            "                                    labels.sentiment source_id     prediction  \\\n",
            "0  [{'tweet_id': 'acd7673f-e621-5f1a-d662-df27896...       NaN  Not Sarcastic   \n",
            "1  [{'tweet_id': '5b92aba8-4b05-6c63-8485-e9c8707...       NaN      Sarcastic   \n",
            "2  [{'tweet_id': '0a799c07-8b76-17ba-b840-e538d51...       NaN      Sarcastic   \n",
            "3  [{'tweet_id': '8b4d2a34-c4f0-0e19-4055-dfe4af5...       NaN      Sarcastic   \n",
            "4  [{'tweet_id': '1fd08862-d8c7-0682-6b11-2603fba...       NaN  Not Sarcastic   \n",
            "\n",
            "   confidence  \n",
            "0    0.986602  \n",
            "1    0.848991  \n",
            "2    0.545836  \n",
            "3    0.688500  \n",
            "4    0.505856  \n"
          ]
        }
      ]
    },
    {
      "cell_type": "code",
      "source": [
        "# Create a new dataset for tweets and prediction\n",
        "\n",
        "only_tweet_prediction_df=tweet_prediction_df[['text', 'prediction', 'confidence']]\n",
        "print(only_tweet_prediction_df.head())"
      ],
      "metadata": {
        "colab": {
          "base_uri": "https://localhost:8080/"
        },
        "id": "d3Kx14ogMq5c",
        "outputId": "1fbbac49-ca59-4a29-bdbe-3830b39bd46f"
      },
      "execution_count": null,
      "outputs": [
        {
          "output_type": "stream",
          "name": "stdout",
          "text": [
            "                                                text     prediction  \\\n",
            "0  @DSisourath The Thameslink core between London...  Not Sarcastic   \n",
            "1  @DulwichHistory Loving the complaint about peo...      Sarcastic   \n",
            "2  @SW_Help .And yet you have no toilets on some ...      Sarcastic   \n",
            "3  @SW_Help you have no toilets on some of your t...      Sarcastic   \n",
            "4  @SpeedySticks007 @MrNeilJH @TLRailUK @christia...  Not Sarcastic   \n",
            "\n",
            "   confidence  \n",
            "0    0.986602  \n",
            "1    0.848991  \n",
            "2    0.545836  \n",
            "3    0.688500  \n",
            "4    0.505856  \n"
          ]
        }
      ]
    },
    {
      "cell_type": "code",
      "source": [
        "# Create the histogram using seaborn\n",
        "plt.figure(figsize=(10, 8))\n",
        "ax = sns.histplot(only_tweet_prediction_df['prediction'], stat=\"count\")\n",
        "\n",
        "# Get total number of data points\n",
        "total = len(only_tweet_prediction_df)\n",
        "\n",
        "# Add percentage and count labels to bars\n",
        "for p in ax.patches:\n",
        "    percentage = '{:.1f}%'.format(100 * p.get_height()/total)\n",
        "    count = '{:d}'.format(p.get_height().astype(int))  # Convert to integer\n",
        "    ax.annotate(f'{percentage}\\n({count})', (p.get_x() + p.get_width() / 2., p.get_height()),\n",
        "                ha='center', va='center', xytext=(0, 10), textcoords='offset points')\n",
        "\n",
        "plt.title('Distribution of Tweet datasets based on Sarcasm')\n",
        "plt.xlabel('Prediction')\n",
        "plt.ylabel('Count')\n",
        "plt.xticks(rotation=45, ha='right')\n",
        "plt.tight_layout()\n",
        "plt.show()"
      ],
      "metadata": {
        "colab": {
          "base_uri": "https://localhost:8080/",
          "height": 807
        },
        "id": "7Sj8SDtvMrix",
        "outputId": "15631c52-01f2-419c-8f55-f77f9b76d871"
      },
      "execution_count": null,
      "outputs": [
        {
          "output_type": "display_data",
          "data": {
            "text/plain": [
              "<Figure size 1000x800 with 1 Axes>"
            ],
            "image/png": "[encoded data removed]"
          },
          "metadata": {}
        }
      ]
    },
    {
      "cell_type": "markdown",
      "source": [
        "Create Only sarcastic tweets DF for further prediction"
      ],
      "metadata": {
        "id": "zzctca8ISHVg"
      }
    },
    {
      "cell_type": "code",
      "source": [
        "only_sarcastic_tweet_df = tweet_prediction_df[tweet_prediction_df['prediction'] == 'Sarcastic']"
      ],
      "metadata": {
        "id": "uf89t7cRODok"
      },
      "execution_count": null,
      "outputs": []
    },
    {
      "cell_type": "code",
      "source": [
        "# Set display options to show all text content\n",
        "pd.set_option(\"display.max_colwidth\", None)\n"
      ],
      "metadata": {
        "id": "Wru5DjfgT4fJ"
      },
      "execution_count": null,
      "outputs": []
    },
    {
      "cell_type": "code",
      "source": [
        "# print 5 randomly sample sarcastic tweets\n",
        "print(only_sarcastic_tweet_df[['text']].sample(5))"
      ],
      "metadata": {
        "colab": {
          "base_uri": "https://localhost:8080/"
        },
        "id": "oItrcRb5VbhY",
        "outputId": "76a16e1d-c870-45bf-bf50-f3784cb5a12d"
      },
      "execution_count": null,
      "outputs": [
        {
          "output_type": "stream",
          "name": "stdout",
          "text": [
            "                                                                                                                                                                                                                                                                                    text\n",
            "5653                                                                                                                                                                                         @TLRailUK Delays I get, but no communication, false information? That’s always the problem.\n",
            "2068                                          1642 Thameslink train to Peterborough: On time - plat 1 1648 Thameslink train to London Kings Cross: expected 1654 - plat 4 1710 Thameslink train to Peterborough: Delayed - plat 1 1718 Thameslink train to London Kings Cross: Cancelled\n",
            "10993                                                                                                                                                                        @lynneguist @TLRailUK I spend 2 hours a day on new, hideous @GNRailUK trains without tables. I HATE them!!!\n",
            "16174                                                                                                                                                                                                                                                  @butchersbits @TLRailUK Plugged ✌\n",
            "7764   @TLRailUK Welcome to Thameslink BINGO Wk7 2020! Only took me 2 days this week to get BINGO! Delay before arrival Delay during transit Cancellation hat-trick (3 in a row) No driver when sitting in train Announcement saying train won't stop and random train stops. What fun!!\n"
          ]
        }
      ]
    },
    {
      "cell_type": "code",
      "source": [
        "# Saving Only sarcastic Df as csv\n",
        "only_sarcastic_tweet_df.to_csv(\"/content/drive/MyDrive/only_sarcastic_tweet_df.csv\", index=False)"
      ],
      "metadata": {
        "id": "JK8L1VXTX_xa"
      },
      "execution_count": null,
      "outputs": []
    }
  ]
}